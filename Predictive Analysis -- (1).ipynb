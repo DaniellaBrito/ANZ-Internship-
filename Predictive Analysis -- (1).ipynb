{
 "cells": [
  {
   "cell_type": "code",
   "execution_count": 1,
   "metadata": {},
   "outputs": [],
   "source": [
    "# Data wrangling \n",
    "import pandas as pd\n",
    "import numpy as np\n",
    "import seaborn as sns\n",
    "import matplotlib.pyplot as plt\n",
    "from statistics import mode\n",
    "\n",
    "# Machine learning\n",
    "from sklearn.model_selection import train_test_split\n",
    "from sklearn.preprocessing import OneHotEncoder, StandardScaler\n",
    "from sklearn.linear_model import LinearRegression\n",
    "from sklearn.tree import DecisionTreeRegressor\n",
    "from sklearn.compose import make_column_transformer\n",
    "from sklearn.pipeline import make_pipeline\n",
    "from sklearn.metrics import mean_squared_error"
   ]
  },
  {
   "cell_type": "code",
   "execution_count": 2,
   "metadata": {},
   "outputs": [],
   "source": [
    "from sklearn import linear_model\n",
    "from sklearn.linear_model import LinearRegression\n",
    "from sklearn.linear_model import Ridge\n",
    "from sklearn.linear_model import Lasso\n",
    "from sklearn.model_selection import GridSearchCV\n",
    "from sklearn.feature_selection import RFE\n",
    "\n",
    "from sklearn.metrics import mean_squared_error, r2_score\n"
   ]
  },
  {
   "cell_type": "code",
   "execution_count": 3,
   "metadata": {},
   "outputs": [
    {
     "data": {
      "text/html": [
       "<div>\n",
       "<style scoped>\n",
       "    .dataframe tbody tr th:only-of-type {\n",
       "        vertical-align: middle;\n",
       "    }\n",
       "\n",
       "    .dataframe tbody tr th {\n",
       "        vertical-align: top;\n",
       "    }\n",
       "\n",
       "    .dataframe thead th {\n",
       "        text-align: right;\n",
       "    }\n",
       "</style>\n",
       "<table border=\"1\" class=\"dataframe\">\n",
       "  <thead>\n",
       "    <tr style=\"text-align: right;\">\n",
       "      <th></th>\n",
       "      <th>status</th>\n",
       "      <th>card_present_flag</th>\n",
       "      <th>account</th>\n",
       "      <th>long_lat</th>\n",
       "      <th>txn_description</th>\n",
       "      <th>merchant_id</th>\n",
       "      <th>first_name</th>\n",
       "      <th>balance</th>\n",
       "      <th>date</th>\n",
       "      <th>gender</th>\n",
       "      <th>...</th>\n",
       "      <th>extraction</th>\n",
       "      <th>amount</th>\n",
       "      <th>transaction_id</th>\n",
       "      <th>customer_id</th>\n",
       "      <th>merchant_long_lat</th>\n",
       "      <th>movement</th>\n",
       "      <th>month</th>\n",
       "      <th>dayofweek</th>\n",
       "      <th>hour</th>\n",
       "      <th>category</th>\n",
       "    </tr>\n",
       "  </thead>\n",
       "  <tbody>\n",
       "    <tr>\n",
       "      <th>0</th>\n",
       "      <td>authorized</td>\n",
       "      <td>1</td>\n",
       "      <td>ACC-1598451071</td>\n",
       "      <td>153.41 -27.95</td>\n",
       "      <td>POS</td>\n",
       "      <td>81c48296-73be-44a7-befa-d053f48ce7cd</td>\n",
       "      <td>Diana</td>\n",
       "      <td>35.39</td>\n",
       "      <td>2018-08-01</td>\n",
       "      <td>F</td>\n",
       "      <td>...</td>\n",
       "      <td>01:01:15</td>\n",
       "      <td>16.25</td>\n",
       "      <td>a623070bfead4541a6b0fff8a09e706c</td>\n",
       "      <td>CUS-2487424745</td>\n",
       "      <td>153.38 -27.99</td>\n",
       "      <td>debit</td>\n",
       "      <td>8</td>\n",
       "      <td>2</td>\n",
       "      <td>1</td>\n",
       "      <td>Purchase</td>\n",
       "    </tr>\n",
       "    <tr>\n",
       "      <th>1</th>\n",
       "      <td>authorized</td>\n",
       "      <td>0</td>\n",
       "      <td>ACC-1598451071</td>\n",
       "      <td>153.41 -27.95</td>\n",
       "      <td>SALES-POS</td>\n",
       "      <td>830a451c-316e-4a6a-bf25-e37caedca49e</td>\n",
       "      <td>Diana</td>\n",
       "      <td>21.20</td>\n",
       "      <td>2018-08-01</td>\n",
       "      <td>F</td>\n",
       "      <td>...</td>\n",
       "      <td>01:13:45</td>\n",
       "      <td>14.19</td>\n",
       "      <td>13270a2a902145da9db4c951e04b51b9</td>\n",
       "      <td>CUS-2487424745</td>\n",
       "      <td>151.21 -33.87</td>\n",
       "      <td>debit</td>\n",
       "      <td>8</td>\n",
       "      <td>2</td>\n",
       "      <td>1</td>\n",
       "      <td>Purchase</td>\n",
       "    </tr>\n",
       "    <tr>\n",
       "      <th>2</th>\n",
       "      <td>authorized</td>\n",
       "      <td>1</td>\n",
       "      <td>ACC-1222300524</td>\n",
       "      <td>151.23 -33.94</td>\n",
       "      <td>POS</td>\n",
       "      <td>835c231d-8cdf-4e96-859d-e9d571760cf0</td>\n",
       "      <td>Michael</td>\n",
       "      <td>5.71</td>\n",
       "      <td>2018-08-01</td>\n",
       "      <td>M</td>\n",
       "      <td>...</td>\n",
       "      <td>01:26:15</td>\n",
       "      <td>6.42</td>\n",
       "      <td>feb79e7ecd7048a5a36ec889d1a94270</td>\n",
       "      <td>CUS-2142601169</td>\n",
       "      <td>151.21 -33.87</td>\n",
       "      <td>debit</td>\n",
       "      <td>8</td>\n",
       "      <td>2</td>\n",
       "      <td>1</td>\n",
       "      <td>Purchase</td>\n",
       "    </tr>\n",
       "    <tr>\n",
       "      <th>3</th>\n",
       "      <td>authorized</td>\n",
       "      <td>1</td>\n",
       "      <td>ACC-1037050564</td>\n",
       "      <td>153.10 -27.66</td>\n",
       "      <td>SALES-POS</td>\n",
       "      <td>48514682-c78a-4a88-b0da-2d6302e64673</td>\n",
       "      <td>Rhonda</td>\n",
       "      <td>2117.22</td>\n",
       "      <td>2018-08-01</td>\n",
       "      <td>F</td>\n",
       "      <td>...</td>\n",
       "      <td>01:38:45</td>\n",
       "      <td>40.90</td>\n",
       "      <td>2698170da3704fd981b15e64a006079e</td>\n",
       "      <td>CUS-1614226872</td>\n",
       "      <td>153.05 -26.68</td>\n",
       "      <td>debit</td>\n",
       "      <td>8</td>\n",
       "      <td>2</td>\n",
       "      <td>1</td>\n",
       "      <td>Purchase</td>\n",
       "    </tr>\n",
       "    <tr>\n",
       "      <th>4</th>\n",
       "      <td>authorized</td>\n",
       "      <td>1</td>\n",
       "      <td>ACC-1598451071</td>\n",
       "      <td>153.41 -27.95</td>\n",
       "      <td>SALES-POS</td>\n",
       "      <td>b4e02c10-0852-4273-b8fd-7b3395e32eb0</td>\n",
       "      <td>Diana</td>\n",
       "      <td>17.95</td>\n",
       "      <td>2018-08-01</td>\n",
       "      <td>F</td>\n",
       "      <td>...</td>\n",
       "      <td>01:51:15</td>\n",
       "      <td>3.25</td>\n",
       "      <td>329adf79878c4cf0aeb4188b4691c266</td>\n",
       "      <td>CUS-2487424745</td>\n",
       "      <td>153.44 -28.06</td>\n",
       "      <td>debit</td>\n",
       "      <td>8</td>\n",
       "      <td>2</td>\n",
       "      <td>1</td>\n",
       "      <td>Purchase</td>\n",
       "    </tr>\n",
       "  </tbody>\n",
       "</table>\n",
       "<p>5 rows × 23 columns</p>\n",
       "</div>"
      ],
      "text/plain": [
       "       status card_present_flag         account       long_lat  \\\n",
       "0  authorized                 1  ACC-1598451071  153.41 -27.95   \n",
       "1  authorized                 0  ACC-1598451071  153.41 -27.95   \n",
       "2  authorized                 1  ACC-1222300524  151.23 -33.94   \n",
       "3  authorized                 1  ACC-1037050564  153.10 -27.66   \n",
       "4  authorized                 1  ACC-1598451071  153.41 -27.95   \n",
       "\n",
       "  txn_description                           merchant_id first_name  balance  \\\n",
       "0             POS  81c48296-73be-44a7-befa-d053f48ce7cd      Diana    35.39   \n",
       "1       SALES-POS  830a451c-316e-4a6a-bf25-e37caedca49e      Diana    21.20   \n",
       "2             POS  835c231d-8cdf-4e96-859d-e9d571760cf0    Michael     5.71   \n",
       "3       SALES-POS  48514682-c78a-4a88-b0da-2d6302e64673     Rhonda  2117.22   \n",
       "4       SALES-POS  b4e02c10-0852-4273-b8fd-7b3395e32eb0      Diana    17.95   \n",
       "\n",
       "        date gender  ...  extraction amount                    transaction_id  \\\n",
       "0 2018-08-01      F  ...    01:01:15  16.25  a623070bfead4541a6b0fff8a09e706c   \n",
       "1 2018-08-01      F  ...    01:13:45  14.19  13270a2a902145da9db4c951e04b51b9   \n",
       "2 2018-08-01      M  ...    01:26:15   6.42  feb79e7ecd7048a5a36ec889d1a94270   \n",
       "3 2018-08-01      F  ...    01:38:45  40.90  2698170da3704fd981b15e64a006079e   \n",
       "4 2018-08-01      F  ...    01:51:15   3.25  329adf79878c4cf0aeb4188b4691c266   \n",
       "\n",
       "      customer_id  merchant_long_lat movement month dayofweek hour  category  \n",
       "0  CUS-2487424745      153.38 -27.99    debit     8         2    1  Purchase  \n",
       "1  CUS-2487424745      151.21 -33.87    debit     8         2    1  Purchase  \n",
       "2  CUS-2142601169      151.21 -33.87    debit     8         2    1  Purchase  \n",
       "3  CUS-1614226872      153.05 -26.68    debit     8         2    1  Purchase  \n",
       "4  CUS-2487424745      153.44 -28.06    debit     8         2    1  Purchase  \n",
       "\n",
       "[5 rows x 23 columns]"
      ]
     },
     "execution_count": 3,
     "metadata": {},
     "output_type": "execute_result"
    }
   ],
   "source": [
    "data = pd.read_pickle(\"C:/Users/Daniella/Forage ANZ/data.pkl\")\n",
    "data.head()"
   ]
  },
  {
   "cell_type": "code",
   "execution_count": 4,
   "metadata": {},
   "outputs": [
    {
     "data": {
      "text/html": [
       "<div>\n",
       "<style scoped>\n",
       "    .dataframe tbody tr th:only-of-type {\n",
       "        vertical-align: middle;\n",
       "    }\n",
       "\n",
       "    .dataframe tbody tr th {\n",
       "        vertical-align: top;\n",
       "    }\n",
       "\n",
       "    .dataframe thead th {\n",
       "        text-align: right;\n",
       "    }\n",
       "</style>\n",
       "<table border=\"1\" class=\"dataframe\">\n",
       "  <thead>\n",
       "    <tr style=\"text-align: right;\">\n",
       "      <th></th>\n",
       "      <th>Columns</th>\n",
       "    </tr>\n",
       "  </thead>\n",
       "  <tbody>\n",
       "    <tr>\n",
       "      <th>0</th>\n",
       "      <td>status</td>\n",
       "    </tr>\n",
       "    <tr>\n",
       "      <th>1</th>\n",
       "      <td>card_present_flag</td>\n",
       "    </tr>\n",
       "    <tr>\n",
       "      <th>2</th>\n",
       "      <td>account</td>\n",
       "    </tr>\n",
       "    <tr>\n",
       "      <th>3</th>\n",
       "      <td>long_lat</td>\n",
       "    </tr>\n",
       "    <tr>\n",
       "      <th>4</th>\n",
       "      <td>txn_description</td>\n",
       "    </tr>\n",
       "    <tr>\n",
       "      <th>5</th>\n",
       "      <td>merchant_id</td>\n",
       "    </tr>\n",
       "    <tr>\n",
       "      <th>6</th>\n",
       "      <td>first_name</td>\n",
       "    </tr>\n",
       "    <tr>\n",
       "      <th>7</th>\n",
       "      <td>balance</td>\n",
       "    </tr>\n",
       "    <tr>\n",
       "      <th>8</th>\n",
       "      <td>date</td>\n",
       "    </tr>\n",
       "    <tr>\n",
       "      <th>9</th>\n",
       "      <td>gender</td>\n",
       "    </tr>\n",
       "    <tr>\n",
       "      <th>10</th>\n",
       "      <td>age</td>\n",
       "    </tr>\n",
       "    <tr>\n",
       "      <th>11</th>\n",
       "      <td>merchant_suburb</td>\n",
       "    </tr>\n",
       "    <tr>\n",
       "      <th>12</th>\n",
       "      <td>merchant_state</td>\n",
       "    </tr>\n",
       "    <tr>\n",
       "      <th>13</th>\n",
       "      <td>extraction</td>\n",
       "    </tr>\n",
       "    <tr>\n",
       "      <th>14</th>\n",
       "      <td>amount</td>\n",
       "    </tr>\n",
       "    <tr>\n",
       "      <th>15</th>\n",
       "      <td>transaction_id</td>\n",
       "    </tr>\n",
       "    <tr>\n",
       "      <th>16</th>\n",
       "      <td>customer_id</td>\n",
       "    </tr>\n",
       "    <tr>\n",
       "      <th>17</th>\n",
       "      <td>merchant_long_lat</td>\n",
       "    </tr>\n",
       "    <tr>\n",
       "      <th>18</th>\n",
       "      <td>movement</td>\n",
       "    </tr>\n",
       "    <tr>\n",
       "      <th>19</th>\n",
       "      <td>month</td>\n",
       "    </tr>\n",
       "    <tr>\n",
       "      <th>20</th>\n",
       "      <td>dayofweek</td>\n",
       "    </tr>\n",
       "    <tr>\n",
       "      <th>21</th>\n",
       "      <td>hour</td>\n",
       "    </tr>\n",
       "    <tr>\n",
       "      <th>22</th>\n",
       "      <td>category</td>\n",
       "    </tr>\n",
       "  </tbody>\n",
       "</table>\n",
       "</div>"
      ],
      "text/plain": [
       "              Columns\n",
       "0              status\n",
       "1   card_present_flag\n",
       "2             account\n",
       "3            long_lat\n",
       "4     txn_description\n",
       "5         merchant_id\n",
       "6          first_name\n",
       "7             balance\n",
       "8                date\n",
       "9              gender\n",
       "10                age\n",
       "11    merchant_suburb\n",
       "12     merchant_state\n",
       "13         extraction\n",
       "14             amount\n",
       "15     transaction_id\n",
       "16        customer_id\n",
       "17  merchant_long_lat\n",
       "18           movement\n",
       "19              month\n",
       "20          dayofweek\n",
       "21               hour\n",
       "22           category"
      ]
     },
     "execution_count": 4,
     "metadata": {},
     "output_type": "execute_result"
    }
   ],
   "source": [
    "# Dataframe columns \n",
    "pd.DataFrame({\"Columns\": data.columns})"
   ]
  },
  {
   "cell_type": "code",
   "execution_count": 5,
   "metadata": {},
   "outputs": [
    {
     "data": {
      "text/html": [
       "<div>\n",
       "<style scoped>\n",
       "    .dataframe tbody tr th:only-of-type {\n",
       "        vertical-align: middle;\n",
       "    }\n",
       "\n",
       "    .dataframe tbody tr th {\n",
       "        vertical-align: top;\n",
       "    }\n",
       "\n",
       "    .dataframe thead th {\n",
       "        text-align: right;\n",
       "    }\n",
       "</style>\n",
       "<table border=\"1\" class=\"dataframe\">\n",
       "  <thead>\n",
       "    <tr style=\"text-align: right;\">\n",
       "      <th></th>\n",
       "      <th>age</th>\n",
       "      <th>amount</th>\n",
       "      <th>balance</th>\n",
       "    </tr>\n",
       "  </thead>\n",
       "  <tbody>\n",
       "    <tr>\n",
       "      <th>0</th>\n",
       "      <td>26</td>\n",
       "      <td>16.25</td>\n",
       "      <td>35.39</td>\n",
       "    </tr>\n",
       "    <tr>\n",
       "      <th>1</th>\n",
       "      <td>26</td>\n",
       "      <td>14.19</td>\n",
       "      <td>21.20</td>\n",
       "    </tr>\n",
       "    <tr>\n",
       "      <th>2</th>\n",
       "      <td>38</td>\n",
       "      <td>6.42</td>\n",
       "      <td>5.71</td>\n",
       "    </tr>\n",
       "    <tr>\n",
       "      <th>3</th>\n",
       "      <td>40</td>\n",
       "      <td>40.90</td>\n",
       "      <td>2117.22</td>\n",
       "    </tr>\n",
       "    <tr>\n",
       "      <th>4</th>\n",
       "      <td>26</td>\n",
       "      <td>3.25</td>\n",
       "      <td>17.95</td>\n",
       "    </tr>\n",
       "  </tbody>\n",
       "</table>\n",
       "</div>"
      ],
      "text/plain": [
       "   age  amount  balance\n",
       "0   26   16.25    35.39\n",
       "1   26   14.19    21.20\n",
       "2   38    6.42     5.71\n",
       "3   40   40.90  2117.22\n",
       "4   26    3.25    17.95"
      ]
     },
     "execution_count": 5,
     "metadata": {},
     "output_type": "execute_result"
    }
   ],
   "source": [
    "feat=data[['age','amount','balance']]\n",
    "feat.head()"
   ]
  },
  {
   "cell_type": "code",
   "execution_count": 6,
   "metadata": {},
   "outputs": [
    {
     "data": {
      "text/plain": [
       "<AxesSubplot:xlabel='age', ylabel='balance'>"
      ]
     },
     "execution_count": 6,
     "metadata": {},
     "output_type": "execute_result"
    },
    {
     "data": {
      "image/png": "[encoded data removed]",
      "text/plain": [
       "<Figure size 432x288 with 1 Axes>"
      ]
     },
     "metadata": {
      "needs_background": "light"
     },
     "output_type": "display_data"
    }
   ],
   "source": [
    "sns.scatterplot(x=data['age'],y=data['balance'],data=feat)"
   ]
  },
  {
   "cell_type": "markdown",
   "metadata": {},
   "source": [
    "Inference - As per age we can see that 40-50 year age bracket people have maintained  a higher bank balance .  "
   ]
  },
  {
   "cell_type": "code",
   "execution_count": 7,
   "metadata": {},
   "outputs": [
    {
     "data": {
      "text/plain": [
       "<AxesSubplot:xlabel='age', ylabel='amount'>"
      ]
     },
     "execution_count": 7,
     "metadata": {},
     "output_type": "execute_result"
    },
    {
     "data": {
      "image/png": "[encoded data removed]",
      "text/plain": [
       "<Figure size 432x288 with 1 Axes>"
      ]
     },
     "metadata": {
      "needs_background": "light"
     },
     "output_type": "display_data"
    }
   ],
   "source": [
    "sns.regplot(x=data['age'],y=data['amount'],data=feat)"
   ]
  },
  {
   "cell_type": "markdown",
   "metadata": {},
   "source": [
    "# 2. Feature engineering - \n",
    "\n",
    "In order to model annual salary, we first need to compute the annual salary for each customer as well as create features that can help us predict those salaries."
   ]
  },
  {
   "cell_type": "markdown",
   "metadata": {},
   "source": [
    "# 2.1 Target variable (customers' annual salary)\n",
    "A target variable, or sometimes called a response variable, is the variable that we are trying to predict and in our case, this is the annual salary for each customer."
   ]
  },
  {
   "cell_type": "code",
   "execution_count": 8,
   "metadata": {},
   "outputs": [
    {
     "data": {
      "text/html": [
       "<div>\n",
       "<style scoped>\n",
       "    .dataframe tbody tr th:only-of-type {\n",
       "        vertical-align: middle;\n",
       "    }\n",
       "\n",
       "    .dataframe tbody tr th {\n",
       "        vertical-align: top;\n",
       "    }\n",
       "\n",
       "    .dataframe thead th {\n",
       "        text-align: right;\n",
       "    }\n",
       "</style>\n",
       "<table border=\"1\" class=\"dataframe\">\n",
       "  <thead>\n",
       "    <tr style=\"text-align: right;\">\n",
       "      <th></th>\n",
       "      <th>customer_id</th>\n",
       "    </tr>\n",
       "  </thead>\n",
       "  <tbody>\n",
       "    <tr>\n",
       "      <th>0</th>\n",
       "      <td>CUS-2487424745</td>\n",
       "    </tr>\n",
       "    <tr>\n",
       "      <th>1</th>\n",
       "      <td>CUS-2142601169</td>\n",
       "    </tr>\n",
       "    <tr>\n",
       "      <th>2</th>\n",
       "      <td>CUS-1614226872</td>\n",
       "    </tr>\n",
       "    <tr>\n",
       "      <th>3</th>\n",
       "      <td>CUS-2688605418</td>\n",
       "    </tr>\n",
       "    <tr>\n",
       "      <th>4</th>\n",
       "      <td>CUS-4123612273</td>\n",
       "    </tr>\n",
       "  </tbody>\n",
       "</table>\n",
       "</div>"
      ],
      "text/plain": [
       "      customer_id\n",
       "0  CUS-2487424745\n",
       "1  CUS-2142601169\n",
       "2  CUS-1614226872\n",
       "3  CUS-2688605418\n",
       "4  CUS-4123612273"
      ]
     },
     "execution_count": 8,
     "metadata": {},
     "output_type": "execute_result"
    }
   ],
   "source": [
    "# Check the salary payment frequency of each customer\n",
    "salary_df = pd.DataFrame({\"customer_id\": data.customer_id.unique()})\n",
    "salary_df.head()"
   ]
  },
  {
   "cell_type": "code",
   "execution_count": 9,
   "metadata": {},
   "outputs": [
    {
     "data": {
      "text/html": [
       "<div>\n",
       "<style scoped>\n",
       "    .dataframe tbody tr th:only-of-type {\n",
       "        vertical-align: middle;\n",
       "    }\n",
       "\n",
       "    .dataframe tbody tr th {\n",
       "        vertical-align: top;\n",
       "    }\n",
       "\n",
       "    .dataframe thead th {\n",
       "        text-align: right;\n",
       "    }\n",
       "</style>\n",
       "<table border=\"1\" class=\"dataframe\">\n",
       "  <thead>\n",
       "    <tr style=\"text-align: right;\">\n",
       "      <th></th>\n",
       "      <th>date</th>\n",
       "      <th>amount</th>\n",
       "    </tr>\n",
       "  </thead>\n",
       "  <tbody>\n",
       "    <tr>\n",
       "      <th>0</th>\n",
       "      <td>2018-08-01</td>\n",
       "      <td>1013.67</td>\n",
       "    </tr>\n",
       "    <tr>\n",
       "      <th>1</th>\n",
       "      <td>2018-08-08</td>\n",
       "      <td>1013.67</td>\n",
       "    </tr>\n",
       "    <tr>\n",
       "      <th>2</th>\n",
       "      <td>2018-08-15</td>\n",
       "      <td>1013.67</td>\n",
       "    </tr>\n",
       "    <tr>\n",
       "      <th>3</th>\n",
       "      <td>2018-08-22</td>\n",
       "      <td>1013.67</td>\n",
       "    </tr>\n",
       "    <tr>\n",
       "      <th>4</th>\n",
       "      <td>2018-08-29</td>\n",
       "      <td>1013.67</td>\n",
       "    </tr>\n",
       "    <tr>\n",
       "      <th>5</th>\n",
       "      <td>2018-09-05</td>\n",
       "      <td>1013.67</td>\n",
       "    </tr>\n",
       "    <tr>\n",
       "      <th>6</th>\n",
       "      <td>2018-09-12</td>\n",
       "      <td>1013.67</td>\n",
       "    </tr>\n",
       "    <tr>\n",
       "      <th>7</th>\n",
       "      <td>2018-09-19</td>\n",
       "      <td>1013.67</td>\n",
       "    </tr>\n",
       "    <tr>\n",
       "      <th>8</th>\n",
       "      <td>2018-09-26</td>\n",
       "      <td>1013.67</td>\n",
       "    </tr>\n",
       "    <tr>\n",
       "      <th>9</th>\n",
       "      <td>2018-10-03</td>\n",
       "      <td>1013.67</td>\n",
       "    </tr>\n",
       "    <tr>\n",
       "      <th>10</th>\n",
       "      <td>2018-10-10</td>\n",
       "      <td>1013.67</td>\n",
       "    </tr>\n",
       "    <tr>\n",
       "      <th>11</th>\n",
       "      <td>2018-10-17</td>\n",
       "      <td>1013.67</td>\n",
       "    </tr>\n",
       "    <tr>\n",
       "      <th>12</th>\n",
       "      <td>2018-10-24</td>\n",
       "      <td>1013.67</td>\n",
       "    </tr>\n",
       "    <tr>\n",
       "      <th>13</th>\n",
       "      <td>2018-10-31</td>\n",
       "      <td>1013.67</td>\n",
       "    </tr>\n",
       "  </tbody>\n",
       "</table>\n",
       "</div>"
      ],
      "text/plain": [
       "         date   amount\n",
       "0  2018-08-01  1013.67\n",
       "1  2018-08-08  1013.67\n",
       "2  2018-08-15  1013.67\n",
       "3  2018-08-22  1013.67\n",
       "4  2018-08-29  1013.67\n",
       "5  2018-09-05  1013.67\n",
       "6  2018-09-12  1013.67\n",
       "7  2018-09-19  1013.67\n",
       "8  2018-09-26  1013.67\n",
       "9  2018-10-03  1013.67\n",
       "10 2018-10-10  1013.67\n",
       "11 2018-10-17  1013.67\n",
       "12 2018-10-24  1013.67\n",
       "13 2018-10-31  1013.67"
      ]
     },
     "execution_count": 9,
     "metadata": {},
     "output_type": "execute_result"
    }
   ],
   "source": [
    "example = data.loc[(data.customer_id == salary_df.customer_id[0]) & (data.txn_description == \"PAY/SALARY\"), [\"date\", \"amount\"]].groupby(\"date\", as_index = False).sum()\n",
    "example"
   ]
  },
  {
   "cell_type": "code",
   "execution_count": 10,
   "metadata": {},
   "outputs": [
    {
     "data": {
      "text/html": [
       "<div>\n",
       "<style scoped>\n",
       "    .dataframe tbody tr th:only-of-type {\n",
       "        vertical-align: middle;\n",
       "    }\n",
       "\n",
       "    .dataframe tbody tr th {\n",
       "        vertical-align: top;\n",
       "    }\n",
       "\n",
       "    .dataframe thead th {\n",
       "        text-align: right;\n",
       "    }\n",
       "</style>\n",
       "<table border=\"1\" class=\"dataframe\">\n",
       "  <thead>\n",
       "    <tr style=\"text-align: right;\">\n",
       "      <th></th>\n",
       "      <th>customer_id</th>\n",
       "      <th>salary_freq</th>\n",
       "      <th>salary_amount</th>\n",
       "      <th>annual_salary</th>\n",
       "    </tr>\n",
       "  </thead>\n",
       "  <tbody>\n",
       "    <tr>\n",
       "      <th>0</th>\n",
       "      <td>CUS-2487424745</td>\n",
       "      <td>7</td>\n",
       "      <td>1013.67</td>\n",
       "      <td>52891.852500</td>\n",
       "    </tr>\n",
       "    <tr>\n",
       "      <th>1</th>\n",
       "      <td>CUS-2142601169</td>\n",
       "      <td>7</td>\n",
       "      <td>1002.13</td>\n",
       "      <td>52289.711786</td>\n",
       "    </tr>\n",
       "    <tr>\n",
       "      <th>2</th>\n",
       "      <td>CUS-1614226872</td>\n",
       "      <td>7</td>\n",
       "      <td>892.09</td>\n",
       "      <td>46547.981786</td>\n",
       "    </tr>\n",
       "    <tr>\n",
       "      <th>3</th>\n",
       "      <td>CUS-2688605418</td>\n",
       "      <td>14</td>\n",
       "      <td>2320.30</td>\n",
       "      <td>60534.969643</td>\n",
       "    </tr>\n",
       "    <tr>\n",
       "      <th>4</th>\n",
       "      <td>CUS-4123612273</td>\n",
       "      <td>7</td>\n",
       "      <td>1068.04</td>\n",
       "      <td>55728.801429</td>\n",
       "    </tr>\n",
       "  </tbody>\n",
       "</table>\n",
       "</div>"
      ],
      "text/plain": [
       "      customer_id  salary_freq  salary_amount  annual_salary\n",
       "0  CUS-2487424745            7        1013.67   52891.852500\n",
       "1  CUS-2142601169            7        1002.13   52289.711786\n",
       "2  CUS-1614226872            7         892.09   46547.981786\n",
       "3  CUS-2688605418           14        2320.30   60534.969643\n",
       "4  CUS-4123612273            7        1068.04   55728.801429"
      ]
     },
     "execution_count": 10,
     "metadata": {},
     "output_type": "execute_result"
    }
   ],
   "source": [
    "# Loop through all salary payments for each customer\n",
    "# Assume the salary level is constant for each customer over the observed period\n",
    "df_freq = []\n",
    "df_amount = []\n",
    "\n",
    "for customer in range(len(salary_df)):\n",
    "    salary = data.loc[(data.customer_id == salary_df.customer_id[customer]) & (data.txn_description == \"PAY/SALARY\"), [\"date\", \"amount\"]].groupby(\"date\", as_index = False).sum()\n",
    "    count = len(salary)\n",
    "    if count == 0:\n",
    "        df_amount.append(np.nan)\n",
    "        df_freq.append(np.nan)\n",
    "    else:\n",
    "        days_between_payments = []\n",
    "        for date in range(len(salary)-1):\n",
    "            days_between_payments.append((salary.date[date + 1] - salary.date[date]).days)\n",
    "        df_freq.append(max(days_between_payments))\n",
    "        df_amount.append(mode(salary.amount))\n",
    "\n",
    "salary_df[\"salary_freq\"] = df_freq\n",
    "salary_df[\"salary_amount\"] = df_amount       \n",
    "salary_df[\"annual_salary\"] = salary_df[\"salary_amount\"] / salary_df[\"salary_freq\"] * 365.25\n",
    "salary_df.head()"
   ]
  },
  {
   "cell_type": "markdown",
   "metadata": {},
   "source": [
    "Inference-There were multiple mode values for days_between_payments, so I decided to take the maximum."
   ]
  },
  {
   "cell_type": "code",
   "execution_count": 11,
   "metadata": {},
   "outputs": [
    {
     "name": "stderr",
     "output_type": "stream",
     "text": [
      "C:\\Users\\Daniella\\.conda\\envs\\py36_test\\lib\\site-packages\\seaborn\\distributions.py:2551: FutureWarning: `distplot` is a deprecated function and will be removed in a future version. Please adapt your code to use either `displot` (a figure-level function with similar flexibility) or `histplot` (an axes-level function for histograms).\n",
      "  warnings.warn(msg, FutureWarning)\n"
     ]
    },
    {
     "data": {
      "text/plain": [
       "Text(0.5, 0, 'Annual salary')"
      ]
     },
     "execution_count": 11,
     "metadata": {},
     "output_type": "execute_result"
    },
    {
     "data": {
      "image/png": "[encoded data removed]",
      "text/plain": [
       "<Figure size 720x360 with 1 Axes>"
      ]
     },
     "metadata": {
      "needs_background": "light"
     },
     "output_type": "display_data"
    }
   ],
   "source": [
    "# Plot customer's annual salary distribution \n",
    "plt.figure(figsize = (10, 5))\n",
    "sns.distplot(salary_df.annual_salary)\n",
    "plt.title(\"Distribution of customers' annual salary\")\n",
    "plt.xlabel(\"Annual salary\")"
   ]
  },
  {
   "cell_type": "markdown",
   "metadata": {},
   "source": [
    "# 2.2 Predictor variables\n",
    "Predictor variables or features are variables that will help us predict the salaries for each customer.\n",
    "\n",
    "In this section, we will create the following features for each customer:\n",
    "\n",
    "- Average number of weekly transactions\n",
    "- Maximum transaction amount\n",
    "- Number of large transactions (over $100)\n",
    "\n",
    "- Number of days with transactions\n",
    "- Average transaction amount\n",
    "- Median balance\n",
    "- State of residence\n",
    "By no means this is an exhaustive list of features we can create. Feel free to come up with your own features!\n",
    "\n",
    "Also, not to forget from our original dataframe:\n",
    "\n",
    "Age,\n",
    "Gender"
   ]
  },
  {
   "cell_type": "code",
   "execution_count": 12,
   "metadata": {},
   "outputs": [
    {
     "data": {
      "text/plain": [
       "100"
      ]
     },
     "execution_count": 12,
     "metadata": {},
     "output_type": "execute_result"
    }
   ],
   "source": [
    "# Unique customer id's \n",
    "unique_id = data.customer_id.unique()\n",
    "len(unique_id)"
   ]
  },
  {
   "cell_type": "code",
   "execution_count": 13,
   "metadata": {},
   "outputs": [
    {
     "data": {
      "text/plain": [
       "array(['CUS-2487424745', 'CUS-2142601169', 'CUS-1614226872',\n",
       "       'CUS-2688605418', 'CUS-4123612273'], dtype=object)"
      ]
     },
     "execution_count": 13,
     "metadata": {},
     "output_type": "execute_result"
    }
   ],
   "source": [
    "unique_id[:5]"
   ]
  },
  {
   "cell_type": "markdown",
   "metadata": {},
   "source": [
    "#### 2.2.1 Average number of weekly transactions"
   ]
  },
  {
   "cell_type": "code",
   "execution_count": 14,
   "metadata": {},
   "outputs": [
    {
     "data": {
      "text/plain": [
       "[48, 29, 24, 14, 21]"
      ]
     },
     "execution_count": 14,
     "metadata": {},
     "output_type": "execute_result"
    }
   ],
   "source": [
    "avg_no_weekly_trans = []\n",
    "for id_ in unique_id:\n",
    "    array = data.loc[data.customer_id == id_, \"date\"]\n",
    "    avg_no_weekly_trans.append(round(len(array)/array.nunique()*7))\n",
    "avg_no_weekly_trans[:5]"
   ]
  },
  {
   "cell_type": "markdown",
   "metadata": {},
   "source": [
    "#### 2.2.2 Maximum amount"
   ]
  },
  {
   "cell_type": "code",
   "execution_count": 15,
   "metadata": {},
   "outputs": [
    {
     "data": {
      "text/plain": [
       "[1452.21, 2349.55, 892.09, 2320.3, 1068.04]"
      ]
     },
     "execution_count": 15,
     "metadata": {},
     "output_type": "execute_result"
    }
   ],
   "source": [
    "max_amount = []\n",
    "for id_ in unique_id:\n",
    "    array = data.loc[data.customer_id == id_, \"amount\"]\n",
    "    max_amount.append(max(array))\n",
    "max_amount[:5]"
   ]
  },
  {
   "cell_type": "markdown",
   "metadata": {},
   "source": [
    "#### 2.2.3 Number of large transactions"
   ]
  },
  {
   "cell_type": "code",
   "execution_count": 16,
   "metadata": {},
   "outputs": [
    {
     "data": {
      "text/plain": [
       "[22, 23, 22, 25, 32]"
      ]
     },
     "execution_count": 16,
     "metadata": {},
     "output_type": "execute_result"
    }
   ],
   "source": [
    "no_large_trans = []\n",
    "for id_ in unique_id:\n",
    "    count = 0\n",
    "    array = data.loc[data.customer_id == id_, \"amount\"]\n",
    "    for amount in array:\n",
    "        if amount > 100:\n",
    "            count += 1\n",
    "    no_large_trans.append(count)\n",
    "no_large_trans[:5]"
   ]
  },
  {
   "cell_type": "markdown",
   "metadata": {},
   "source": [
    "#### 2.2.4 Number of days with transactions"
   ]
  },
  {
   "cell_type": "code",
   "execution_count": 17,
   "metadata": {},
   "outputs": [
    {
     "data": {
      "text/plain": [
       "[85, 74, 76, 63, 44]"
      ]
     },
     "execution_count": 17,
     "metadata": {},
     "output_type": "execute_result"
    }
   ],
   "source": [
    "no_days_with_trans = []\n",
    "for id_ in unique_id:\n",
    "    array = data.loc[data.customer_id == id_, \"date\"]\n",
    "    no_days_with_trans.append(array.nunique())\n",
    "no_days_with_trans[:5]"
   ]
  },
  {
   "cell_type": "markdown",
   "metadata": {},
   "source": [
    "#### 2.2.5 Average transaction amount"
   ]
  },
  {
   "cell_type": "code",
   "execution_count": 18,
   "metadata": {},
   "outputs": [
    {
     "data": {
      "text/plain": [
       "[45.34877162629756,\n",
       " 78.20610561056101,\n",
       " 74.46501930501928,\n",
       " 159.3041860465116,\n",
       " 166.50835820895517]"
      ]
     },
     "execution_count": 18,
     "metadata": {},
     "output_type": "execute_result"
    }
   ],
   "source": [
    "avg_trans_amount = []\n",
    "for id_ in unique_id:\n",
    "    array = data.loc[data.customer_id == id_, \"amount\"]\n",
    "    avg_trans_amount.append(array.mean())\n",
    "avg_trans_amount[:5]"
   ]
  },
  {
   "cell_type": "markdown",
   "metadata": {},
   "source": [
    "#### 2.2.6 Median balance"
   ]
  },
  {
   "cell_type": "code",
   "execution_count": 19,
   "metadata": {},
   "outputs": [
    {
     "data": {
      "text/plain": [
       "[1580.4, 1132.66, 3618.5, 5616.63, 6162.45]"
      ]
     },
     "execution_count": 19,
     "metadata": {},
     "output_type": "execute_result"
    }
   ],
   "source": [
    "median_balance = []\n",
    "for id_ in unique_id:\n",
    "    array = data.loc[data.customer_id == id_, \"balance\"]\n",
    "    median_balance.append(array.median())\n",
    "median_balance[:5]    "
   ]
  },
  {
   "cell_type": "markdown",
   "metadata": {},
   "source": [
    "####  2.2.7 State of residence"
   ]
  },
  {
   "cell_type": "code",
   "execution_count": 20,
   "metadata": {},
   "outputs": [
    {
     "data": {
      "text/plain": [
       "['QLD', 'NSW', 'QLD', 'NSW', 'VIC']"
      ]
     },
     "execution_count": 20,
     "metadata": {},
     "output_type": "execute_result"
    }
   ],
   "source": [
    "# Assume customers live in the state where most of their transactions occured\n",
    "state = []\n",
    "for id_ in unique_id:\n",
    "    array = data.loc[data.customer_id == id_, \"merchant_state\"]\n",
    "    state.append(mode(array))\n",
    "state[:5]"
   ]
  },
  {
   "cell_type": "markdown",
   "metadata": {},
   "source": [
    "#### 2.2.8 Include age and gender from original dataframe"
   ]
  },
  {
   "cell_type": "code",
   "execution_count": 21,
   "metadata": {},
   "outputs": [
    {
     "data": {
      "text/plain": [
       "[26, 38, 40, 20, 43]"
      ]
     },
     "execution_count": 21,
     "metadata": {},
     "output_type": "execute_result"
    }
   ],
   "source": [
    "age = []\n",
    "for id_ in unique_id:\n",
    "    array = data.loc[data.customer_id == id_, \"age\"]\n",
    "    age.append(mode(array))\n",
    "age[:5]"
   ]
  },
  {
   "cell_type": "code",
   "execution_count": 22,
   "metadata": {},
   "outputs": [
    {
     "data": {
      "text/plain": [
       "['F', 'M', 'F', 'M', 'F']"
      ]
     },
     "execution_count": 22,
     "metadata": {},
     "output_type": "execute_result"
    }
   ],
   "source": [
    "gender = []\n",
    "for id_ in unique_id:\n",
    "    array = data.loc[data.customer_id == id_, \"gender\"]\n",
    "    gender.append(mode(array))\n",
    "gender[:5]"
   ]
  },
  {
   "cell_type": "markdown",
   "metadata": {},
   "source": [
    "#### 2.2.9 Putting everything together"
   ]
  },
  {
   "cell_type": "markdown",
   "metadata": {},
   "source": [
    "Here, we will put together all the features that we have created into a dataframe called features_df and subsequently concatenate the annual salary for each customer to form a final dataframe called df."
   ]
  },
  {
   "cell_type": "code",
   "execution_count": 23,
   "metadata": {},
   "outputs": [
    {
     "data": {
      "text/html": [
       "<div>\n",
       "<style scoped>\n",
       "    .dataframe tbody tr th:only-of-type {\n",
       "        vertical-align: middle;\n",
       "    }\n",
       "\n",
       "    .dataframe tbody tr th {\n",
       "        vertical-align: top;\n",
       "    }\n",
       "\n",
       "    .dataframe thead th {\n",
       "        text-align: right;\n",
       "    }\n",
       "</style>\n",
       "<table border=\"1\" class=\"dataframe\">\n",
       "  <thead>\n",
       "    <tr style=\"text-align: right;\">\n",
       "      <th></th>\n",
       "      <th>customer_id</th>\n",
       "      <th>avg_no_weekly_trans</th>\n",
       "      <th>max_amount</th>\n",
       "      <th>no_large_trans</th>\n",
       "      <th>avg_trans_amount</th>\n",
       "      <th>median_balance</th>\n",
       "      <th>state</th>\n",
       "      <th>age</th>\n",
       "      <th>gender</th>\n",
       "    </tr>\n",
       "  </thead>\n",
       "  <tbody>\n",
       "    <tr>\n",
       "      <th>0</th>\n",
       "      <td>CUS-2487424745</td>\n",
       "      <td>48</td>\n",
       "      <td>1452.21</td>\n",
       "      <td>22</td>\n",
       "      <td>45.348772</td>\n",
       "      <td>1580.40</td>\n",
       "      <td>QLD</td>\n",
       "      <td>26</td>\n",
       "      <td>F</td>\n",
       "    </tr>\n",
       "    <tr>\n",
       "      <th>1</th>\n",
       "      <td>CUS-2142601169</td>\n",
       "      <td>29</td>\n",
       "      <td>2349.55</td>\n",
       "      <td>23</td>\n",
       "      <td>78.206106</td>\n",
       "      <td>1132.66</td>\n",
       "      <td>NSW</td>\n",
       "      <td>38</td>\n",
       "      <td>M</td>\n",
       "    </tr>\n",
       "    <tr>\n",
       "      <th>2</th>\n",
       "      <td>CUS-1614226872</td>\n",
       "      <td>24</td>\n",
       "      <td>892.09</td>\n",
       "      <td>22</td>\n",
       "      <td>74.465019</td>\n",
       "      <td>3618.50</td>\n",
       "      <td>QLD</td>\n",
       "      <td>40</td>\n",
       "      <td>F</td>\n",
       "    </tr>\n",
       "    <tr>\n",
       "      <th>3</th>\n",
       "      <td>CUS-2688605418</td>\n",
       "      <td>14</td>\n",
       "      <td>2320.30</td>\n",
       "      <td>25</td>\n",
       "      <td>159.304186</td>\n",
       "      <td>5616.63</td>\n",
       "      <td>NSW</td>\n",
       "      <td>20</td>\n",
       "      <td>M</td>\n",
       "    </tr>\n",
       "    <tr>\n",
       "      <th>4</th>\n",
       "      <td>CUS-4123612273</td>\n",
       "      <td>21</td>\n",
       "      <td>1068.04</td>\n",
       "      <td>32</td>\n",
       "      <td>166.508358</td>\n",
       "      <td>6162.45</td>\n",
       "      <td>VIC</td>\n",
       "      <td>43</td>\n",
       "      <td>F</td>\n",
       "    </tr>\n",
       "  </tbody>\n",
       "</table>\n",
       "</div>"
      ],
      "text/plain": [
       "      customer_id  avg_no_weekly_trans  max_amount  no_large_trans  \\\n",
       "0  CUS-2487424745                   48     1452.21              22   \n",
       "1  CUS-2142601169                   29     2349.55              23   \n",
       "2  CUS-1614226872                   24      892.09              22   \n",
       "3  CUS-2688605418                   14     2320.30              25   \n",
       "4  CUS-4123612273                   21     1068.04              32   \n",
       "\n",
       "   avg_trans_amount  median_balance state  age gender  \n",
       "0         45.348772         1580.40   QLD   26      F  \n",
       "1         78.206106         1132.66   NSW   38      M  \n",
       "2         74.465019         3618.50   QLD   40      F  \n",
       "3        159.304186         5616.63   NSW   20      M  \n",
       "4        166.508358         6162.45   VIC   43      F  "
      ]
     },
     "execution_count": 23,
     "metadata": {},
     "output_type": "execute_result"
    }
   ],
   "source": [
    "# Predictor variables \n",
    "features_df = pd.DataFrame({\"customer_id\": unique_id, \n",
    "                            \"avg_no_weekly_trans\": avg_no_weekly_trans, \n",
    "                            \"max_amount\": max_amount, \n",
    "                            \"no_large_trans\": no_large_trans,\n",
    "                            \"avg_trans_amount\": avg_trans_amount,\n",
    "                            \"median_balance\": median_balance, \n",
    "                            \"state\": state,\n",
    "                            \"age\": age,\n",
    "                            \"gender\": gender})\n",
    "features_df.head()"
   ]
  },
  {
   "cell_type": "code",
   "execution_count": 24,
   "metadata": {},
   "outputs": [
    {
     "data": {
      "text/html": [
       "<div>\n",
       "<style scoped>\n",
       "    .dataframe tbody tr th:only-of-type {\n",
       "        vertical-align: middle;\n",
       "    }\n",
       "\n",
       "    .dataframe tbody tr th {\n",
       "        vertical-align: top;\n",
       "    }\n",
       "\n",
       "    .dataframe thead th {\n",
       "        text-align: right;\n",
       "    }\n",
       "</style>\n",
       "<table border=\"1\" class=\"dataframe\">\n",
       "  <thead>\n",
       "    <tr style=\"text-align: right;\">\n",
       "      <th></th>\n",
       "      <th>customer_id</th>\n",
       "      <th>salary_freq</th>\n",
       "      <th>salary_amount</th>\n",
       "      <th>annual_salary</th>\n",
       "    </tr>\n",
       "  </thead>\n",
       "  <tbody>\n",
       "    <tr>\n",
       "      <th>0</th>\n",
       "      <td>CUS-2487424745</td>\n",
       "      <td>7</td>\n",
       "      <td>1013.67</td>\n",
       "      <td>52891.852500</td>\n",
       "    </tr>\n",
       "    <tr>\n",
       "      <th>1</th>\n",
       "      <td>CUS-2142601169</td>\n",
       "      <td>7</td>\n",
       "      <td>1002.13</td>\n",
       "      <td>52289.711786</td>\n",
       "    </tr>\n",
       "    <tr>\n",
       "      <th>2</th>\n",
       "      <td>CUS-1614226872</td>\n",
       "      <td>7</td>\n",
       "      <td>892.09</td>\n",
       "      <td>46547.981786</td>\n",
       "    </tr>\n",
       "    <tr>\n",
       "      <th>3</th>\n",
       "      <td>CUS-2688605418</td>\n",
       "      <td>14</td>\n",
       "      <td>2320.30</td>\n",
       "      <td>60534.969643</td>\n",
       "    </tr>\n",
       "    <tr>\n",
       "      <th>4</th>\n",
       "      <td>CUS-4123612273</td>\n",
       "      <td>7</td>\n",
       "      <td>1068.04</td>\n",
       "      <td>55728.801429</td>\n",
       "    </tr>\n",
       "  </tbody>\n",
       "</table>\n",
       "</div>"
      ],
      "text/plain": [
       "      customer_id  salary_freq  salary_amount  annual_salary\n",
       "0  CUS-2487424745            7        1013.67   52891.852500\n",
       "1  CUS-2142601169            7        1002.13   52289.711786\n",
       "2  CUS-1614226872            7         892.09   46547.981786\n",
       "3  CUS-2688605418           14        2320.30   60534.969643\n",
       "4  CUS-4123612273            7        1068.04   55728.801429"
      ]
     },
     "execution_count": 24,
     "metadata": {},
     "output_type": "execute_result"
    }
   ],
   "source": [
    "# Target variable \n",
    "salary_df.head()"
   ]
  },
  {
   "cell_type": "code",
   "execution_count": 25,
   "metadata": {},
   "outputs": [
    {
     "data": {
      "text/html": [
       "<div>\n",
       "<style scoped>\n",
       "    .dataframe tbody tr th:only-of-type {\n",
       "        vertical-align: middle;\n",
       "    }\n",
       "\n",
       "    .dataframe tbody tr th {\n",
       "        vertical-align: top;\n",
       "    }\n",
       "\n",
       "    .dataframe thead th {\n",
       "        text-align: right;\n",
       "    }\n",
       "</style>\n",
       "<table border=\"1\" class=\"dataframe\">\n",
       "  <thead>\n",
       "    <tr style=\"text-align: right;\">\n",
       "      <th></th>\n",
       "      <th>customer_id</th>\n",
       "      <th>avg_no_weekly_trans</th>\n",
       "      <th>max_amount</th>\n",
       "      <th>no_large_trans</th>\n",
       "      <th>avg_trans_amount</th>\n",
       "      <th>median_balance</th>\n",
       "      <th>state</th>\n",
       "      <th>age</th>\n",
       "      <th>gender</th>\n",
       "      <th>annual_salary</th>\n",
       "    </tr>\n",
       "  </thead>\n",
       "  <tbody>\n",
       "    <tr>\n",
       "      <th>0</th>\n",
       "      <td>CUS-2487424745</td>\n",
       "      <td>48</td>\n",
       "      <td>1452.21</td>\n",
       "      <td>22</td>\n",
       "      <td>45.348772</td>\n",
       "      <td>1580.40</td>\n",
       "      <td>QLD</td>\n",
       "      <td>26</td>\n",
       "      <td>F</td>\n",
       "      <td>52891.852500</td>\n",
       "    </tr>\n",
       "    <tr>\n",
       "      <th>1</th>\n",
       "      <td>CUS-2142601169</td>\n",
       "      <td>29</td>\n",
       "      <td>2349.55</td>\n",
       "      <td>23</td>\n",
       "      <td>78.206106</td>\n",
       "      <td>1132.66</td>\n",
       "      <td>NSW</td>\n",
       "      <td>38</td>\n",
       "      <td>M</td>\n",
       "      <td>52289.711786</td>\n",
       "    </tr>\n",
       "    <tr>\n",
       "      <th>2</th>\n",
       "      <td>CUS-1614226872</td>\n",
       "      <td>24</td>\n",
       "      <td>892.09</td>\n",
       "      <td>22</td>\n",
       "      <td>74.465019</td>\n",
       "      <td>3618.50</td>\n",
       "      <td>QLD</td>\n",
       "      <td>40</td>\n",
       "      <td>F</td>\n",
       "      <td>46547.981786</td>\n",
       "    </tr>\n",
       "    <tr>\n",
       "      <th>3</th>\n",
       "      <td>CUS-2688605418</td>\n",
       "      <td>14</td>\n",
       "      <td>2320.30</td>\n",
       "      <td>25</td>\n",
       "      <td>159.304186</td>\n",
       "      <td>5616.63</td>\n",
       "      <td>NSW</td>\n",
       "      <td>20</td>\n",
       "      <td>M</td>\n",
       "      <td>60534.969643</td>\n",
       "    </tr>\n",
       "    <tr>\n",
       "      <th>4</th>\n",
       "      <td>CUS-4123612273</td>\n",
       "      <td>21</td>\n",
       "      <td>1068.04</td>\n",
       "      <td>32</td>\n",
       "      <td>166.508358</td>\n",
       "      <td>6162.45</td>\n",
       "      <td>VIC</td>\n",
       "      <td>43</td>\n",
       "      <td>F</td>\n",
       "      <td>55728.801429</td>\n",
       "    </tr>\n",
       "  </tbody>\n",
       "</table>\n",
       "</div>"
      ],
      "text/plain": [
       "      customer_id  avg_no_weekly_trans  max_amount  no_large_trans  \\\n",
       "0  CUS-2487424745                   48     1452.21              22   \n",
       "1  CUS-2142601169                   29     2349.55              23   \n",
       "2  CUS-1614226872                   24      892.09              22   \n",
       "3  CUS-2688605418                   14     2320.30              25   \n",
       "4  CUS-4123612273                   21     1068.04              32   \n",
       "\n",
       "   avg_trans_amount  median_balance state  age gender  annual_salary  \n",
       "0         45.348772         1580.40   QLD   26      F   52891.852500  \n",
       "1         78.206106         1132.66   NSW   38      M   52289.711786  \n",
       "2         74.465019         3618.50   QLD   40      F   46547.981786  \n",
       "3        159.304186         5616.63   NSW   20      M   60534.969643  \n",
       "4        166.508358         6162.45   VIC   43      F   55728.801429  "
      ]
     },
     "execution_count": 25,
     "metadata": {},
     "output_type": "execute_result"
    }
   ],
   "source": [
    "# Concat annual salary column to features dataframe  \n",
    "df = pd.concat([features_df, salary_df.annual_salary], axis = 1)\n",
    "df.head()"
   ]
  },
  {
   "cell_type": "code",
   "execution_count": 26,
   "metadata": {},
   "outputs": [
    {
     "data": {
      "text/plain": [
       "customer_id            0\n",
       "avg_no_weekly_trans    0\n",
       "max_amount             0\n",
       "no_large_trans         0\n",
       "avg_trans_amount       0\n",
       "median_balance         0\n",
       "state                  0\n",
       "age                    0\n",
       "gender                 0\n",
       "annual_salary          0\n",
       "dtype: int64"
      ]
     },
     "execution_count": 26,
     "metadata": {},
     "output_type": "execute_result"
    }
   ],
   "source": [
    "# Check for missing values \n",
    "df.isnull().sum()"
   ]
  },
  {
   "cell_type": "markdown",
   "metadata": {},
   "source": [
    "# 3. Preprocessing\n",
    "-\n",
    "In this section, we will perform train and test split on our final dataframe as well as construct a column transformer which consists of one-hot-encoder and standard scaler."
   ]
  },
  {
   "cell_type": "markdown",
   "metadata": {},
   "source": [
    "# 3.1 Train test split\n",
    "Here, we will split 70% of the dataframe into training set, which is used to train our model and 30% of the dataframe into test set, which is used to assess model predictions."
   ]
  },
  {
   "cell_type": "code",
   "execution_count": 27,
   "metadata": {},
   "outputs": [
    {
     "name": "stdout",
     "output_type": "stream",
     "text": [
      "X shape:  (100, 8)\n",
      "Y shape:  (100,)\n"
     ]
    }
   ],
   "source": [
    "X = df.drop([\"customer_id\", \"annual_salary\"], axis = 1)\n",
    "Y = df.annual_salary\n",
    "print(\"X shape: \", X.shape)\n",
    "print(\"Y shape: \", Y.shape)"
   ]
  },
  {
   "cell_type": "code",
   "execution_count": 28,
   "metadata": {},
   "outputs": [
    {
     "name": "stdout",
     "output_type": "stream",
     "text": [
      "X_train shape:  (70, 8)\n",
      "Y_train shape:  (70,)\n",
      "X_test shape:  (30, 8)\n",
      "Y_test shape:  (30,)\n"
     ]
    }
   ],
   "source": [
    "X_train, X_test, Y_train, Y_test = train_test_split(X, Y, test_size = 0.3, random_state = 42)\n",
    "\n",
    "print(\"X_train shape: \", X_train.shape)\n",
    "print(\"Y_train shape: \", Y_train.shape)\n",
    "print(\"X_test shape: \", X_test.shape)\n",
    "print(\"Y_test shape: \", Y_test.shape)"
   ]
  },
  {
   "cell_type": "markdown",
   "metadata": {},
   "source": [
    "# 3.2 Column transformer with one-hot encoder and standard scaler\n",
    "Models cannot train on variables that contain text, therefore we need to encode both the state and gender columns using one-hot encoder. Furthermore, to ensure that each feature contributes proportionally to the final prediction, we need to scale all the numerical variables using standard scaler.\n",
    "\n",
    "We will include both the one-hot encoder and the standard scaler into a single column transformer."
   ]
  },
  {
   "cell_type": "markdown",
   "metadata": {},
   "source": [
    "# 4.1 Linear regression - RFE "
   ]
  },
  {
   "cell_type": "code",
   "execution_count": 29,
   "metadata": {},
   "outputs": [
    {
     "data": {
      "text/html": [
       "<div>\n",
       "<style scoped>\n",
       "    .dataframe tbody tr th:only-of-type {\n",
       "        vertical-align: middle;\n",
       "    }\n",
       "\n",
       "    .dataframe tbody tr th {\n",
       "        vertical-align: top;\n",
       "    }\n",
       "\n",
       "    .dataframe thead th {\n",
       "        text-align: right;\n",
       "    }\n",
       "</style>\n",
       "<table border=\"1\" class=\"dataframe\">\n",
       "  <thead>\n",
       "    <tr style=\"text-align: right;\">\n",
       "      <th></th>\n",
       "      <th>state</th>\n",
       "      <th>gender</th>\n",
       "    </tr>\n",
       "  </thead>\n",
       "  <tbody>\n",
       "    <tr>\n",
       "      <th>0</th>\n",
       "      <td>QLD</td>\n",
       "      <td>F</td>\n",
       "    </tr>\n",
       "    <tr>\n",
       "      <th>1</th>\n",
       "      <td>NSW</td>\n",
       "      <td>M</td>\n",
       "    </tr>\n",
       "    <tr>\n",
       "      <th>2</th>\n",
       "      <td>QLD</td>\n",
       "      <td>F</td>\n",
       "    </tr>\n",
       "    <tr>\n",
       "      <th>3</th>\n",
       "      <td>NSW</td>\n",
       "      <td>M</td>\n",
       "    </tr>\n",
       "    <tr>\n",
       "      <th>4</th>\n",
       "      <td>VIC</td>\n",
       "      <td>F</td>\n",
       "    </tr>\n",
       "  </tbody>\n",
       "</table>\n",
       "</div>"
      ],
      "text/plain": [
       "  state gender\n",
       "0   QLD      F\n",
       "1   NSW      M\n",
       "2   QLD      F\n",
       "3   NSW      M\n",
       "4   VIC      F"
      ]
     },
     "execution_count": 29,
     "metadata": {},
     "output_type": "execute_result"
    }
   ],
   "source": [
    "# creating dummy variables for categorical variables\n",
    "\n",
    "# subset all categorical variables\n",
    "categorical = X.select_dtypes(include=['object'])\n",
    "categorical.head()"
   ]
  },
  {
   "cell_type": "code",
   "execution_count": 30,
   "metadata": {},
   "outputs": [
    {
     "data": {
      "text/html": [
       "<div>\n",
       "<style scoped>\n",
       "    .dataframe tbody tr th:only-of-type {\n",
       "        vertical-align: middle;\n",
       "    }\n",
       "\n",
       "    .dataframe tbody tr th {\n",
       "        vertical-align: top;\n",
       "    }\n",
       "\n",
       "    .dataframe thead th {\n",
       "        text-align: right;\n",
       "    }\n",
       "</style>\n",
       "<table border=\"1\" class=\"dataframe\">\n",
       "  <thead>\n",
       "    <tr style=\"text-align: right;\">\n",
       "      <th></th>\n",
       "      <th>state_NT</th>\n",
       "      <th>state_QLD</th>\n",
       "      <th>state_VIC</th>\n",
       "      <th>state_WA</th>\n",
       "      <th>state_n/a</th>\n",
       "      <th>gender_M</th>\n",
       "    </tr>\n",
       "  </thead>\n",
       "  <tbody>\n",
       "    <tr>\n",
       "      <th>0</th>\n",
       "      <td>0</td>\n",
       "      <td>1</td>\n",
       "      <td>0</td>\n",
       "      <td>0</td>\n",
       "      <td>0</td>\n",
       "      <td>0</td>\n",
       "    </tr>\n",
       "    <tr>\n",
       "      <th>1</th>\n",
       "      <td>0</td>\n",
       "      <td>0</td>\n",
       "      <td>0</td>\n",
       "      <td>0</td>\n",
       "      <td>0</td>\n",
       "      <td>1</td>\n",
       "    </tr>\n",
       "    <tr>\n",
       "      <th>2</th>\n",
       "      <td>0</td>\n",
       "      <td>1</td>\n",
       "      <td>0</td>\n",
       "      <td>0</td>\n",
       "      <td>0</td>\n",
       "      <td>0</td>\n",
       "    </tr>\n",
       "    <tr>\n",
       "      <th>3</th>\n",
       "      <td>0</td>\n",
       "      <td>0</td>\n",
       "      <td>0</td>\n",
       "      <td>0</td>\n",
       "      <td>0</td>\n",
       "      <td>1</td>\n",
       "    </tr>\n",
       "    <tr>\n",
       "      <th>4</th>\n",
       "      <td>0</td>\n",
       "      <td>0</td>\n",
       "      <td>1</td>\n",
       "      <td>0</td>\n",
       "      <td>0</td>\n",
       "      <td>0</td>\n",
       "    </tr>\n",
       "  </tbody>\n",
       "</table>\n",
       "</div>"
      ],
      "text/plain": [
       "   state_NT  state_QLD  state_VIC  state_WA  state_n/a  gender_M\n",
       "0         0          1          0         0          0         0\n",
       "1         0          0          0         0          0         1\n",
       "2         0          1          0         0          0         0\n",
       "3         0          0          0         0          0         1\n",
       "4         0          0          1         0          0         0"
      ]
     },
     "execution_count": 30,
     "metadata": {},
     "output_type": "execute_result"
    }
   ],
   "source": [
    "# convert into dummies\n",
    "housing_dummies = pd.get_dummies(categorical, drop_first=True)\n",
    "housing_dummies.head()"
   ]
  },
  {
   "cell_type": "code",
   "execution_count": 31,
   "metadata": {},
   "outputs": [],
   "source": [
    "# drop categorical variables \n",
    "X = X.drop(list(categorical.columns), axis=1)"
   ]
  },
  {
   "cell_type": "code",
   "execution_count": 32,
   "metadata": {},
   "outputs": [],
   "source": [
    "# concat dummy variables with X\n",
    "X = pd.concat([X, housing_dummies], axis=1)"
   ]
  },
  {
   "cell_type": "code",
   "execution_count": 33,
   "metadata": {},
   "outputs": [
    {
     "data": {
      "text/plain": [
       "(100, 12)"
      ]
     },
     "execution_count": 33,
     "metadata": {},
     "output_type": "execute_result"
    }
   ],
   "source": [
    "X.shape"
   ]
  },
  {
   "cell_type": "code",
   "execution_count": 34,
   "metadata": {},
   "outputs": [
    {
     "data": {
      "text/plain": [
       "Index(['avg_no_weekly_trans', 'max_amount', 'no_large_trans',\n",
       "       'avg_trans_amount', 'median_balance', 'age', 'state_NT', 'state_QLD',\n",
       "       'state_VIC', 'state_WA', 'state_n/a', 'gender_M'],\n",
       "      dtype='object')"
      ]
     },
     "execution_count": 34,
     "metadata": {},
     "output_type": "execute_result"
    }
   ],
   "source": [
    "# scaling the features\n",
    "from sklearn.preprocessing import scale\n",
    "\n",
    "cols = X.columns\n",
    "X = pd.DataFrame(scale(X))\n",
    "X.columns = cols\n",
    "X.columns"
   ]
  },
  {
   "cell_type": "code",
   "execution_count": 35,
   "metadata": {},
   "outputs": [],
   "source": [
    "# split into train and test\n",
    "from sklearn.model_selection import train_test_split\n",
    "X_train, X_test, Y_train, Y_test = train_test_split(X, Y, train_size=0.7,test_size = 0.3, random_state=100)"
   ]
  },
  {
   "cell_type": "code",
   "execution_count": 36,
   "metadata": {},
   "outputs": [],
   "source": [
    "# Crete column transformer \n",
    "ohe = OneHotEncoder(sparse = False)\n",
    "scaler = StandardScaler()\n",
    "column_transform = make_column_transformer((ohe, [\"state\", \"gender\"]), (scaler, [\"avg_no_weekly_trans\", \"max_amount\", \"no_large_trans\", \"avg_trans_amount\", \"median_balance\", \"age\"]))"
   ]
  },
  {
   "cell_type": "code",
   "execution_count": 37,
   "metadata": {},
   "outputs": [],
   "source": [
    "lm = LinearRegression()"
   ]
  },
  {
   "cell_type": "code",
   "execution_count": 38,
   "metadata": {},
   "outputs": [
    {
     "name": "stderr",
     "output_type": "stream",
     "text": [
      "C:\\Users\\Daniella\\.conda\\envs\\py36_test\\lib\\site-packages\\sklearn\\utils\\validation.py:68: FutureWarning: Pass n_features_to_select=10 as keyword args. From version 0.25 passing these as positional arguments will result in an error\n",
      "  warnings.warn(\"Pass {} as keyword args. From version 0.25 \"\n"
     ]
    }
   ],
   "source": [
    "#Lets use RFE to select highly important 50 features\n",
    "\n",
    "rfe = RFE(lm, 10)             # running RFE with 50 variables as output\n",
    "rfe = rfe.fit(X_train, Y_train)"
   ]
  },
  {
   "cell_type": "code",
   "execution_count": 39,
   "metadata": {},
   "outputs": [
    {
     "data": {
      "text/plain": [
       "[('avg_no_weekly_trans', True, 1),\n",
       " ('max_amount', True, 1),\n",
       " ('no_large_trans', True, 1),\n",
       " ('avg_trans_amount', True, 1),\n",
       " ('median_balance', True, 1),\n",
       " ('age', False, 3),\n",
       " ('state_NT', False, 2),\n",
       " ('state_QLD', True, 1),\n",
       " ('state_VIC', True, 1),\n",
       " ('state_WA', True, 1),\n",
       " ('state_n/a', True, 1),\n",
       " ('gender_M', True, 1)]"
      ]
     },
     "execution_count": 39,
     "metadata": {},
     "output_type": "execute_result"
    }
   ],
   "source": [
    "list(zip(X_train.columns,rfe.support_,rfe.ranking_))"
   ]
  },
  {
   "cell_type": "markdown",
   "metadata": {},
   "source": [
    "# Lets try a Ridge - Lasso model on this one \n",
    "\n",
    "#### RIDGE\n"
   ]
  },
  {
   "cell_type": "code",
   "execution_count": 40,
   "metadata": {},
   "outputs": [
    {
     "data": {
      "text/plain": [
       "Index(['avg_no_weekly_trans', 'max_amount', 'no_large_trans',\n",
       "       'avg_trans_amount', 'median_balance', 'state_QLD', 'state_VIC',\n",
       "       'state_WA', 'state_n/a', 'gender_M'],\n",
       "      dtype='object')"
      ]
     },
     "execution_count": 40,
     "metadata": {},
     "output_type": "execute_result"
    }
   ],
   "source": [
    "col10 = X_train.columns[rfe.support_]\n",
    "col10"
   ]
  },
  {
   "cell_type": "code",
   "execution_count": 41,
   "metadata": {},
   "outputs": [],
   "source": [
    "X_train_final = X_train[col10]"
   ]
  },
  {
   "cell_type": "code",
   "execution_count": 42,
   "metadata": {},
   "outputs": [
    {
     "name": "stderr",
     "output_type": "stream",
     "text": [
      "[Parallel(n_jobs=1)]: Using backend SequentialBackend with 1 concurrent workers.\n"
     ]
    },
    {
     "name": "stdout",
     "output_type": "stream",
     "text": [
      "Fitting 5 folds for each of 28 candidates, totalling 140 fits\n"
     ]
    },
    {
     "name": "stderr",
     "output_type": "stream",
     "text": [
      "[Parallel(n_jobs=1)]: Done 140 out of 140 | elapsed:    1.4s finished\n"
     ]
    },
    {
     "data": {
      "text/plain": [
       "GridSearchCV(cv=5, estimator=Ridge(),\n",
       "             param_grid={'alpha': [0.0001, 0.001, 0.01, 0.05, 0.1, 0.2, 0.3,\n",
       "                                   0.4, 0.5, 0.6, 0.7, 0.8, 0.9, 1.0, 2.0, 3.0,\n",
       "                                   4.0, 5.0, 6.0, 7.0, 8.0, 9.0, 10.0, 20, 50,\n",
       "                                   100, 500, 1000]},\n",
       "             return_train_score=True, scoring='neg_mean_absolute_error',\n",
       "             verbose=1)"
      ]
     },
     "execution_count": 42,
     "metadata": {},
     "output_type": "execute_result"
    }
   ],
   "source": [
    "# list of alphas to tune\n",
    "params = {'alpha': [0.0001, 0.001, 0.01, 0.05, 0.1, 0.2, 0.3, 0.4, 0.5, 0.6, 0.7, 0.8, 0.9, 1.0, 2.0, 3.0, 4.0, \n",
    "                    5.0, 6.0, 7.0, 8.0, 9.0, 10.0,20, 50, 100, 500, 1000]}\n",
    "\n",
    "ridge = Ridge()\n",
    "\n",
    "# cross validation\n",
    "folds = 5\n",
    "model_cv = GridSearchCV(estimator = ridge, \n",
    "                        param_grid = params, \n",
    "                        scoring= 'neg_mean_absolute_error', \n",
    "                        cv = folds, \n",
    "                        return_train_score=True,\n",
    "                        verbose = 1)            \n",
    "model_cv.fit(X_train_final, Y_train) "
   ]
  },
  {
   "cell_type": "code",
   "execution_count": 43,
   "metadata": {},
   "outputs": [
    {
     "data": {
      "text/html": [
       "<div>\n",
       "<style scoped>\n",
       "    .dataframe tbody tr th:only-of-type {\n",
       "        vertical-align: middle;\n",
       "    }\n",
       "\n",
       "    .dataframe tbody tr th {\n",
       "        vertical-align: top;\n",
       "    }\n",
       "\n",
       "    .dataframe thead th {\n",
       "        text-align: right;\n",
       "    }\n",
       "</style>\n",
       "<table border=\"1\" class=\"dataframe\">\n",
       "  <thead>\n",
       "    <tr style=\"text-align: right;\">\n",
       "      <th></th>\n",
       "      <th>mean_fit_time</th>\n",
       "      <th>std_fit_time</th>\n",
       "      <th>mean_score_time</th>\n",
       "      <th>std_score_time</th>\n",
       "      <th>param_alpha</th>\n",
       "      <th>params</th>\n",
       "      <th>split0_test_score</th>\n",
       "      <th>split1_test_score</th>\n",
       "      <th>split2_test_score</th>\n",
       "      <th>split3_test_score</th>\n",
       "      <th>...</th>\n",
       "      <th>mean_test_score</th>\n",
       "      <th>std_test_score</th>\n",
       "      <th>rank_test_score</th>\n",
       "      <th>split0_train_score</th>\n",
       "      <th>split1_train_score</th>\n",
       "      <th>split2_train_score</th>\n",
       "      <th>split3_train_score</th>\n",
       "      <th>split4_train_score</th>\n",
       "      <th>mean_train_score</th>\n",
       "      <th>std_train_score</th>\n",
       "    </tr>\n",
       "  </thead>\n",
       "  <tbody>\n",
       "    <tr>\n",
       "      <th>0</th>\n",
       "      <td>0.006978</td>\n",
       "      <td>0.001008</td>\n",
       "      <td>0.005924</td>\n",
       "      <td>0.001111</td>\n",
       "      <td>0.0001</td>\n",
       "      <td>{'alpha': 0.0001}</td>\n",
       "      <td>-18651.665213</td>\n",
       "      <td>-11880.086110</td>\n",
       "      <td>-20027.476172</td>\n",
       "      <td>-17168.356800</td>\n",
       "      <td>...</td>\n",
       "      <td>-17008.619314</td>\n",
       "      <td>2765.308255</td>\n",
       "      <td>9</td>\n",
       "      <td>-13043.289765</td>\n",
       "      <td>-15169.382453</td>\n",
       "      <td>-13250.494893</td>\n",
       "      <td>-13982.762948</td>\n",
       "      <td>-14252.603520</td>\n",
       "      <td>-13939.706716</td>\n",
       "      <td>760.320584</td>\n",
       "    </tr>\n",
       "    <tr>\n",
       "      <th>1</th>\n",
       "      <td>0.004294</td>\n",
       "      <td>0.000994</td>\n",
       "      <td>0.003414</td>\n",
       "      <td>0.000506</td>\n",
       "      <td>0.001</td>\n",
       "      <td>{'alpha': 0.001}</td>\n",
       "      <td>-18651.569111</td>\n",
       "      <td>-11880.550925</td>\n",
       "      <td>-20027.772125</td>\n",
       "      <td>-17168.160224</td>\n",
       "      <td>...</td>\n",
       "      <td>-17008.689615</td>\n",
       "      <td>2765.184195</td>\n",
       "      <td>10</td>\n",
       "      <td>-13043.200296</td>\n",
       "      <td>-15169.280145</td>\n",
       "      <td>-13250.591273</td>\n",
       "      <td>-13982.676720</td>\n",
       "      <td>-14252.564521</td>\n",
       "      <td>-13939.662591</td>\n",
       "      <td>760.286931</td>\n",
       "    </tr>\n",
       "    <tr>\n",
       "      <th>2</th>\n",
       "      <td>0.004597</td>\n",
       "      <td>0.001199</td>\n",
       "      <td>0.003192</td>\n",
       "      <td>0.000405</td>\n",
       "      <td>0.01</td>\n",
       "      <td>{'alpha': 0.01}</td>\n",
       "      <td>-18650.610411</td>\n",
       "      <td>-11885.163153</td>\n",
       "      <td>-20030.716618</td>\n",
       "      <td>-17166.192475</td>\n",
       "      <td>...</td>\n",
       "      <td>-17009.382624</td>\n",
       "      <td>2763.954937</td>\n",
       "      <td>11</td>\n",
       "      <td>-13042.307104</td>\n",
       "      <td>-15168.261776</td>\n",
       "      <td>-13251.552057</td>\n",
       "      <td>-13981.815869</td>\n",
       "      <td>-14252.173352</td>\n",
       "      <td>-13939.222031</td>\n",
       "      <td>759.952346</td>\n",
       "    </tr>\n",
       "    <tr>\n",
       "      <th>3</th>\n",
       "      <td>0.004956</td>\n",
       "      <td>0.001267</td>\n",
       "      <td>0.003227</td>\n",
       "      <td>0.000910</td>\n",
       "      <td>0.05</td>\n",
       "      <td>{'alpha': 0.05}</td>\n",
       "      <td>-18646.399836</td>\n",
       "      <td>-11904.890964</td>\n",
       "      <td>-20043.477759</td>\n",
       "      <td>-17157.404194</td>\n",
       "      <td>...</td>\n",
       "      <td>-17012.247482</td>\n",
       "      <td>2758.734217</td>\n",
       "      <td>13</td>\n",
       "      <td>-13038.369910</td>\n",
       "      <td>-15163.836838</td>\n",
       "      <td>-13255.756689</td>\n",
       "      <td>-13978.020898</td>\n",
       "      <td>-14250.409502</td>\n",
       "      <td>-13937.278768</td>\n",
       "      <td>758.507080</td>\n",
       "    </tr>\n",
       "    <tr>\n",
       "      <th>4</th>\n",
       "      <td>0.004861</td>\n",
       "      <td>0.000795</td>\n",
       "      <td>0.004219</td>\n",
       "      <td>0.000744</td>\n",
       "      <td>0.1</td>\n",
       "      <td>{'alpha': 0.1}</td>\n",
       "      <td>-18641.249509</td>\n",
       "      <td>-11927.864127</td>\n",
       "      <td>-20058.704334</td>\n",
       "      <td>-17146.325801</td>\n",
       "      <td>...</td>\n",
       "      <td>-17015.355872</td>\n",
       "      <td>2752.735185</td>\n",
       "      <td>14</td>\n",
       "      <td>-13033.521497</td>\n",
       "      <td>-15158.527230</td>\n",
       "      <td>-13260.866176</td>\n",
       "      <td>-13973.346774</td>\n",
       "      <td>-14248.148604</td>\n",
       "      <td>-13934.882056</td>\n",
       "      <td>756.792077</td>\n",
       "    </tr>\n",
       "  </tbody>\n",
       "</table>\n",
       "<p>5 rows × 21 columns</p>\n",
       "</div>"
      ],
      "text/plain": [
       "   mean_fit_time  std_fit_time  mean_score_time  std_score_time param_alpha  \\\n",
       "0       0.006978      0.001008         0.005924        0.001111      0.0001   \n",
       "1       0.004294      0.000994         0.003414        0.000506       0.001   \n",
       "2       0.004597      0.001199         0.003192        0.000405        0.01   \n",
       "3       0.004956      0.001267         0.003227        0.000910        0.05   \n",
       "4       0.004861      0.000795         0.004219        0.000744         0.1   \n",
       "\n",
       "              params  split0_test_score  split1_test_score  split2_test_score  \\\n",
       "0  {'alpha': 0.0001}      -18651.665213      -11880.086110      -20027.476172   \n",
       "1   {'alpha': 0.001}      -18651.569111      -11880.550925      -20027.772125   \n",
       "2    {'alpha': 0.01}      -18650.610411      -11885.163153      -20030.716618   \n",
       "3    {'alpha': 0.05}      -18646.399836      -11904.890964      -20043.477759   \n",
       "4     {'alpha': 0.1}      -18641.249509      -11927.864127      -20058.704334   \n",
       "\n",
       "   split3_test_score  ...  mean_test_score  std_test_score  rank_test_score  \\\n",
       "0      -17168.356800  ...    -17008.619314     2765.308255                9   \n",
       "1      -17168.160224  ...    -17008.689615     2765.184195               10   \n",
       "2      -17166.192475  ...    -17009.382624     2763.954937               11   \n",
       "3      -17157.404194  ...    -17012.247482     2758.734217               13   \n",
       "4      -17146.325801  ...    -17015.355872     2752.735185               14   \n",
       "\n",
       "   split0_train_score  split1_train_score  split2_train_score  \\\n",
       "0       -13043.289765       -15169.382453       -13250.494893   \n",
       "1       -13043.200296       -15169.280145       -13250.591273   \n",
       "2       -13042.307104       -15168.261776       -13251.552057   \n",
       "3       -13038.369910       -15163.836838       -13255.756689   \n",
       "4       -13033.521497       -15158.527230       -13260.866176   \n",
       "\n",
       "   split3_train_score  split4_train_score  mean_train_score  std_train_score  \n",
       "0       -13982.762948       -14252.603520     -13939.706716       760.320584  \n",
       "1       -13982.676720       -14252.564521     -13939.662591       760.286931  \n",
       "2       -13981.815869       -14252.173352     -13939.222031       759.952346  \n",
       "3       -13978.020898       -14250.409502     -13937.278768       758.507080  \n",
       "4       -13973.346774       -14248.148604     -13934.882056       756.792077  \n",
       "\n",
       "[5 rows x 21 columns]"
      ]
     },
     "execution_count": 43,
     "metadata": {},
     "output_type": "execute_result"
    }
   ],
   "source": [
    "cv_results = pd.DataFrame(model_cv.cv_results_)\n",
    "cv_results = cv_results[cv_results['param_alpha']<=20]\n",
    "cv_results.head()"
   ]
  },
  {
   "cell_type": "code",
   "execution_count": 44,
   "metadata": {},
   "outputs": [
    {
     "data": {
      "image/png": "[encoded data removed]",
      "text/plain": [
       "<Figure size 432x288 with 1 Axes>"
      ]
     },
     "metadata": {
      "needs_background": "light"
     },
     "output_type": "display_data"
    }
   ],
   "source": [
    "# plotting mean test and train scoes with alpha \n",
    "cv_results['param_alpha'] = cv_results['param_alpha'].astype('int32')\n",
    "\n",
    "# plotting\n",
    "plt.plot(cv_results['param_alpha'], cv_results['mean_train_score'])\n",
    "plt.plot(cv_results['param_alpha'], cv_results['mean_test_score'])\n",
    "plt.xlabel('alpha')\n",
    "plt.ylabel('Negative Mean Absolute Error')\n",
    "plt.title(\"Ridge Model Visualization\")\n",
    "plt.legend(['train score', 'test score'], loc='center')\n",
    "plt.show()"
   ]
  },
  {
   "cell_type": "code",
   "execution_count": 45,
   "metadata": {},
   "outputs": [
    {
     "data": {
      "text/plain": [
       "Ridge(alpha=20)"
      ]
     },
     "execution_count": 45,
     "metadata": {},
     "output_type": "execute_result"
    }
   ],
   "source": [
    "# get the best estimator for lambda\n",
    "model_cv.best_estimator_"
   ]
  },
  {
   "cell_type": "code",
   "execution_count": 46,
   "metadata": {},
   "outputs": [
    {
     "data": {
      "text/plain": [
       "array([ 3004.66661477,  7539.03390464,  8284.1678731 ,  8699.19978226,\n",
       "       -1145.3844499 , -2080.2147289 , -2307.34536283,    76.58878609,\n",
       "        2259.49879517,  2865.93141194])"
      ]
     },
     "execution_count": 46,
     "metadata": {},
     "output_type": "execute_result"
    }
   ],
   "source": [
    "alpha = 20\n",
    "ridge = Ridge(alpha=alpha)\n",
    "\n",
    "ridge.fit(X_train_final, Y_train)\n",
    "ridge.coef_"
   ]
  },
  {
   "cell_type": "code",
   "execution_count": 47,
   "metadata": {},
   "outputs": [],
   "source": [
    "Y_train_ridge = Y_train.copy()"
   ]
  },
  {
   "cell_type": "code",
   "execution_count": 48,
   "metadata": {},
   "outputs": [
    {
     "name": "stdout",
     "output_type": "stream",
     "text": [
      "0.5287465910366019\n",
      "0.5287465910366019\n"
     ]
    }
   ],
   "source": [
    "from sklearn.metrics import r2_score\n",
    "model_ridge=ridge.fit(X_train_final, Y_train_ridge)\n",
    "# predict\n",
    "y_train_pred = ridge.predict(X_train_final)\n",
    "print(model_ridge.score(X_train_final, Y_train_ridge))\n",
    "print(r2_score(y_true=Y_train_ridge, y_pred=y_train_pred))"
   ]
  },
  {
   "cell_type": "code",
   "execution_count": 49,
   "metadata": {},
   "outputs": [],
   "source": [
    "X_test_ridge = X_test[col10]\n",
    "Y_test_ridge = Y_test.copy()"
   ]
  },
  {
   "cell_type": "code",
   "execution_count": 50,
   "metadata": {},
   "outputs": [
    {
     "name": "stdout",
     "output_type": "stream",
     "text": [
      "0.34990054241010493\n",
      "0.34990054241010493\n"
     ]
    }
   ],
   "source": [
    "y_test_pred = ridge.predict(X_test_ridge)\n",
    "print(model_ridge.score(X_test_ridge, Y_test_ridge))\n",
    "print(r2_score(y_true=Y_test_ridge, y_pred=y_test_pred))"
   ]
  },
  {
   "cell_type": "code",
   "execution_count": 51,
   "metadata": {},
   "outputs": [
    {
     "name": "stdout",
     "output_type": "stream",
     "text": [
      "0.34990054241010493\n",
      "0.34990054241010493\n"
     ]
    }
   ],
   "source": [
    "y_test_pred = ridge.predict(X_test_ridge)\n",
    "print(model_ridge.score(X_test_ridge, Y_test_ridge))\n",
    "print(r2_score(y_true=Y_test_ridge, y_pred=y_test_pred))"
   ]
  },
  {
   "cell_type": "code",
   "execution_count": 52,
   "metadata": {},
   "outputs": [
    {
     "data": {
      "text/plain": [
       "417921641.12269557"
      ]
     },
     "execution_count": 52,
     "metadata": {},
     "output_type": "execute_result"
    }
   ],
   "source": [
    "# Check the mean squared error\n",
    "\n",
    "mean_squared_error(Y_test_ridge, ridge.predict(X_test_ridge))"
   ]
  },
  {
   "cell_type": "markdown",
   "metadata": {},
   "source": [
    "Regularization -Reduces the variance without substantial increase in the bias. Normally we keep the same number of features, but reduce the magnitude of the coefficients."
   ]
  },
  {
   "cell_type": "code",
   "execution_count": 53,
   "metadata": {},
   "outputs": [
    {
     "data": {
      "image/png": "[encoded data removed]",
      "text/plain": [
       "<Figure size 432x288 with 1 Axes>"
      ]
     },
     "metadata": {
      "needs_background": "light"
     },
     "output_type": "display_data"
    }
   ],
   "source": [
    "# Plot important coefficients - To check the magnitude of the co-efficients \n",
    "\n",
    "coefs = pd.Series(ridge.coef_, index = X_train_final.columns)\n",
    "\n",
    "imp_coefs = pd.concat([coefs.sort_values().head(10),\n",
    "                     coefs.sort_values().tail(10)])\n",
    "imp_coefs.plot(kind = \"bar\")\n",
    "plt.title(\"Coefficients in the Ridge Model\")\n",
    "\n",
    "plt.show()"
   ]
  },
  {
   "cell_type": "code",
   "execution_count": 54,
   "metadata": {},
   "outputs": [
    {
     "name": "stdout",
     "output_type": "stream",
     "text": [
      "   Coeff Values            Variables  Absolute Coefficent\n",
      "3   8699.199782     avg_trans_amount          8699.199782\n",
      "2   8284.167873       no_large_trans          8284.167873\n",
      "1   7539.033905           max_amount          7539.033905\n",
      "0   3004.666615  avg_no_weekly_trans          3004.666615\n",
      "9   2865.931412             gender_M          2865.931412\n",
      "6  -2307.345363            state_VIC          2307.345363\n",
      "8   2259.498795            state_n/a          2259.498795\n",
      "5  -2080.214729            state_QLD          2080.214729\n",
      "4  -1145.384450       median_balance          1145.384450\n",
      "7     76.588786             state_WA            76.588786\n"
     ]
    }
   ],
   "source": [
    "ridge_df = pd.DataFrame() \n",
    "ridge_df['Coeff Values'] = pd.Series(ridge.coef_) \n",
    "ridge_df['Variables'] = X_train_final.columns\n",
    "\n",
    "# Removing rows that have coeff = 0\n",
    "ridge_df = ridge_df.loc[ridge_df['Coeff Values']!=0]\n",
    "\n",
    "ridge_df['Absolute Coefficent'] =ridge_df['Coeff Values'].apply(lambda x:abs(x))\n",
    "ridge_df.sort_values(by=['Absolute Coefficent'],inplace=True,ascending=False)\n",
    "\n",
    "print(ridge_df.head(20))"
   ]
  },
  {
   "cell_type": "markdown",
   "metadata": {},
   "source": [
    "#### Lasso "
   ]
  },
  {
   "cell_type": "code",
   "execution_count": 55,
   "metadata": {},
   "outputs": [],
   "source": [
    "X_train_lasso = X_train[col10]"
   ]
  },
  {
   "cell_type": "code",
   "execution_count": 56,
   "metadata": {},
   "outputs": [
    {
     "name": "stdout",
     "output_type": "stream",
     "text": [
      "Fitting 10 folds for each of 6 candidates, totalling 60 fits\n"
     ]
    },
    {
     "name": "stderr",
     "output_type": "stream",
     "text": [
      "[Parallel(n_jobs=1)]: Using backend SequentialBackend with 1 concurrent workers.\n",
      "[Parallel(n_jobs=1)]: Done  60 out of  60 | elapsed:    0.6s finished\n"
     ]
    },
    {
     "data": {
      "text/plain": [
       "GridSearchCV(cv=10, estimator=Lasso(),\n",
       "             param_grid={'alpha': [0.0001, 0.001, 0.002, 0.003, 0.005, 0.008]},\n",
       "             return_train_score=True, scoring='neg_mean_absolute_error',\n",
       "             verbose=1)"
      ]
     },
     "execution_count": 56,
     "metadata": {},
     "output_type": "execute_result"
    }
   ],
   "source": [
    "lasso = Lasso()\n",
    "folds = 10\n",
    "\n",
    "params = {'alpha': [0.0001, 0.001,0.002,0.003,0.005,0.008]}\n",
    "\n",
    "\n",
    "# cross validation\n",
    "model_cv = GridSearchCV(estimator = lasso, \n",
    "                        param_grid = params, \n",
    "                        scoring= 'neg_mean_absolute_error', \n",
    "                        cv = folds, \n",
    "                        return_train_score=True,\n",
    "                        verbose = 1)            \n",
    "\n",
    "model_cv.fit(X_train_lasso, Y_train) "
   ]
  },
  {
   "cell_type": "code",
   "execution_count": 57,
   "metadata": {},
   "outputs": [
    {
     "data": {
      "text/html": [
       "<div>\n",
       "<style scoped>\n",
       "    .dataframe tbody tr th:only-of-type {\n",
       "        vertical-align: middle;\n",
       "    }\n",
       "\n",
       "    .dataframe tbody tr th {\n",
       "        vertical-align: top;\n",
       "    }\n",
       "\n",
       "    .dataframe thead th {\n",
       "        text-align: right;\n",
       "    }\n",
       "</style>\n",
       "<table border=\"1\" class=\"dataframe\">\n",
       "  <thead>\n",
       "    <tr style=\"text-align: right;\">\n",
       "      <th></th>\n",
       "      <th>mean_fit_time</th>\n",
       "      <th>std_fit_time</th>\n",
       "      <th>mean_score_time</th>\n",
       "      <th>std_score_time</th>\n",
       "      <th>param_alpha</th>\n",
       "      <th>params</th>\n",
       "      <th>split0_test_score</th>\n",
       "      <th>split1_test_score</th>\n",
       "      <th>split2_test_score</th>\n",
       "      <th>split3_test_score</th>\n",
       "      <th>...</th>\n",
       "      <th>split2_train_score</th>\n",
       "      <th>split3_train_score</th>\n",
       "      <th>split4_train_score</th>\n",
       "      <th>split5_train_score</th>\n",
       "      <th>split6_train_score</th>\n",
       "      <th>split7_train_score</th>\n",
       "      <th>split8_train_score</th>\n",
       "      <th>split9_train_score</th>\n",
       "      <th>mean_train_score</th>\n",
       "      <th>std_train_score</th>\n",
       "    </tr>\n",
       "  </thead>\n",
       "  <tbody>\n",
       "    <tr>\n",
       "      <th>0</th>\n",
       "      <td>0.004588</td>\n",
       "      <td>0.001252</td>\n",
       "      <td>0.003336</td>\n",
       "      <td>0.000835</td>\n",
       "      <td>0.0001</td>\n",
       "      <td>{'alpha': 0.0001}</td>\n",
       "      <td>-21323.294366</td>\n",
       "      <td>-17237.766057</td>\n",
       "      <td>-13706.743498</td>\n",
       "      <td>-10155.667103</td>\n",
       "      <td>...</td>\n",
       "      <td>-14452.565376</td>\n",
       "      <td>-14894.622514</td>\n",
       "      <td>-13354.812218</td>\n",
       "      <td>-14271.825152</td>\n",
       "      <td>-14225.709573</td>\n",
       "      <td>-14289.105901</td>\n",
       "      <td>-14389.306943</td>\n",
       "      <td>-14413.084167</td>\n",
       "      <td>-14189.334030</td>\n",
       "      <td>409.333049</td>\n",
       "    </tr>\n",
       "    <tr>\n",
       "      <th>1</th>\n",
       "      <td>0.004303</td>\n",
       "      <td>0.001400</td>\n",
       "      <td>0.003012</td>\n",
       "      <td>0.000643</td>\n",
       "      <td>0.001</td>\n",
       "      <td>{'alpha': 0.001}</td>\n",
       "      <td>-21323.296050</td>\n",
       "      <td>-17237.763556</td>\n",
       "      <td>-13706.743504</td>\n",
       "      <td>-10155.666176</td>\n",
       "      <td>...</td>\n",
       "      <td>-14452.565030</td>\n",
       "      <td>-14894.622244</td>\n",
       "      <td>-13354.812982</td>\n",
       "      <td>-14271.824599</td>\n",
       "      <td>-14225.709147</td>\n",
       "      <td>-14289.105652</td>\n",
       "      <td>-14389.306876</td>\n",
       "      <td>-14413.083421</td>\n",
       "      <td>-14189.333764</td>\n",
       "      <td>409.332835</td>\n",
       "    </tr>\n",
       "    <tr>\n",
       "      <th>2</th>\n",
       "      <td>0.005012</td>\n",
       "      <td>0.000822</td>\n",
       "      <td>0.003729</td>\n",
       "      <td>0.001557</td>\n",
       "      <td>0.002</td>\n",
       "      <td>{'alpha': 0.002}</td>\n",
       "      <td>-21323.297923</td>\n",
       "      <td>-17237.760779</td>\n",
       "      <td>-13706.743493</td>\n",
       "      <td>-10155.665146</td>\n",
       "      <td>...</td>\n",
       "      <td>-14452.564647</td>\n",
       "      <td>-14894.621944</td>\n",
       "      <td>-13354.813831</td>\n",
       "      <td>-14271.823985</td>\n",
       "      <td>-14225.708675</td>\n",
       "      <td>-14289.105374</td>\n",
       "      <td>-14389.306805</td>\n",
       "      <td>-14413.082594</td>\n",
       "      <td>-14189.333470</td>\n",
       "      <td>409.332596</td>\n",
       "    </tr>\n",
       "    <tr>\n",
       "      <th>3</th>\n",
       "      <td>0.004371</td>\n",
       "      <td>0.001247</td>\n",
       "      <td>0.003030</td>\n",
       "      <td>0.000213</td>\n",
       "      <td>0.003</td>\n",
       "      <td>{'alpha': 0.003}</td>\n",
       "      <td>-21323.299796</td>\n",
       "      <td>-17237.758000</td>\n",
       "      <td>-13706.743539</td>\n",
       "      <td>-10155.664115</td>\n",
       "      <td>...</td>\n",
       "      <td>-14452.564261</td>\n",
       "      <td>-14894.621646</td>\n",
       "      <td>-13354.814679</td>\n",
       "      <td>-14271.823370</td>\n",
       "      <td>-14225.708202</td>\n",
       "      <td>-14289.105097</td>\n",
       "      <td>-14389.306732</td>\n",
       "      <td>-14413.081765</td>\n",
       "      <td>-14189.333175</td>\n",
       "      <td>409.332358</td>\n",
       "    </tr>\n",
       "    <tr>\n",
       "      <th>4</th>\n",
       "      <td>0.004932</td>\n",
       "      <td>0.001726</td>\n",
       "      <td>0.003851</td>\n",
       "      <td>0.000896</td>\n",
       "      <td>0.005</td>\n",
       "      <td>{'alpha': 0.005}</td>\n",
       "      <td>-21323.303540</td>\n",
       "      <td>-17237.752445</td>\n",
       "      <td>-13706.743491</td>\n",
       "      <td>-10155.662056</td>\n",
       "      <td>...</td>\n",
       "      <td>-14452.563495</td>\n",
       "      <td>-14894.621046</td>\n",
       "      <td>-13354.816373</td>\n",
       "      <td>-14271.822141</td>\n",
       "      <td>-14225.707258</td>\n",
       "      <td>-14289.104542</td>\n",
       "      <td>-14389.306587</td>\n",
       "      <td>-14413.080108</td>\n",
       "      <td>-14189.332585</td>\n",
       "      <td>409.331882</td>\n",
       "    </tr>\n",
       "  </tbody>\n",
       "</table>\n",
       "<p>5 rows × 31 columns</p>\n",
       "</div>"
      ],
      "text/plain": [
       "   mean_fit_time  std_fit_time  mean_score_time  std_score_time param_alpha  \\\n",
       "0       0.004588      0.001252         0.003336        0.000835      0.0001   \n",
       "1       0.004303      0.001400         0.003012        0.000643       0.001   \n",
       "2       0.005012      0.000822         0.003729        0.001557       0.002   \n",
       "3       0.004371      0.001247         0.003030        0.000213       0.003   \n",
       "4       0.004932      0.001726         0.003851        0.000896       0.005   \n",
       "\n",
       "              params  split0_test_score  split1_test_score  split2_test_score  \\\n",
       "0  {'alpha': 0.0001}      -21323.294366      -17237.766057      -13706.743498   \n",
       "1   {'alpha': 0.001}      -21323.296050      -17237.763556      -13706.743504   \n",
       "2   {'alpha': 0.002}      -21323.297923      -17237.760779      -13706.743493   \n",
       "3   {'alpha': 0.003}      -21323.299796      -17237.758000      -13706.743539   \n",
       "4   {'alpha': 0.005}      -21323.303540      -17237.752445      -13706.743491   \n",
       "\n",
       "   split3_test_score  ...  split2_train_score  split3_train_score  \\\n",
       "0      -10155.667103  ...       -14452.565376       -14894.622514   \n",
       "1      -10155.666176  ...       -14452.565030       -14894.622244   \n",
       "2      -10155.665146  ...       -14452.564647       -14894.621944   \n",
       "3      -10155.664115  ...       -14452.564261       -14894.621646   \n",
       "4      -10155.662056  ...       -14452.563495       -14894.621046   \n",
       "\n",
       "   split4_train_score  split5_train_score  split6_train_score  \\\n",
       "0       -13354.812218       -14271.825152       -14225.709573   \n",
       "1       -13354.812982       -14271.824599       -14225.709147   \n",
       "2       -13354.813831       -14271.823985       -14225.708675   \n",
       "3       -13354.814679       -14271.823370       -14225.708202   \n",
       "4       -13354.816373       -14271.822141       -14225.707258   \n",
       "\n",
       "   split7_train_score  split8_train_score  split9_train_score  \\\n",
       "0       -14289.105901       -14389.306943       -14413.084167   \n",
       "1       -14289.105652       -14389.306876       -14413.083421   \n",
       "2       -14289.105374       -14389.306805       -14413.082594   \n",
       "3       -14289.105097       -14389.306732       -14413.081765   \n",
       "4       -14289.104542       -14389.306587       -14413.080108   \n",
       "\n",
       "   mean_train_score  std_train_score  \n",
       "0     -14189.334030       409.333049  \n",
       "1     -14189.333764       409.332835  \n",
       "2     -14189.333470       409.332596  \n",
       "3     -14189.333175       409.332358  \n",
       "4     -14189.332585       409.331882  \n",
       "\n",
       "[5 rows x 31 columns]"
      ]
     },
     "execution_count": 57,
     "metadata": {},
     "output_type": "execute_result"
    }
   ],
   "source": [
    "cv_results = pd.DataFrame(model_cv.cv_results_)\n",
    "cv_results.head()"
   ]
  },
  {
   "cell_type": "code",
   "execution_count": 58,
   "metadata": {},
   "outputs": [
    {
     "data": {
      "image/png": "[encoded data removed]",
      "text/plain": [
       "<Figure size 432x288 with 1 Axes>"
      ]
     },
     "metadata": {
      "needs_background": "light"
     },
     "output_type": "display_data"
    }
   ],
   "source": [
    "# plotting mean test and train scoes with alpha \n",
    "cv_results['param_alpha'] = cv_results['param_alpha'].astype('float32')\n",
    "\n",
    "# plotting\n",
    "plt.plot(cv_results['param_alpha'], cv_results['mean_train_score'])\n",
    "plt.plot(cv_results['param_alpha'], cv_results['mean_test_score'])\n",
    "plt.xlabel('alpha')\n",
    "plt.ylabel('Negative Mean Absolute Error')\n",
    "\n",
    "plt.title(\"Lasso Model Visualization\")\n",
    "plt.legend(['train score', 'test score'], loc='upper left')\n",
    "plt.show()"
   ]
  },
  {
   "cell_type": "code",
   "execution_count": 59,
   "metadata": {},
   "outputs": [
    {
     "data": {
      "text/plain": [
       "Lasso(alpha=0.008)"
      ]
     },
     "execution_count": 59,
     "metadata": {},
     "output_type": "execute_result"
    }
   ],
   "source": [
    "# get the best estimator for lambda\n",
    "model_cv.best_estimator_"
   ]
  },
  {
   "cell_type": "code",
   "execution_count": 60,
   "metadata": {},
   "outputs": [
    {
     "data": {
      "text/plain": [
       "Lasso(alpha=0.007)"
      ]
     },
     "execution_count": 60,
     "metadata": {},
     "output_type": "execute_result"
    }
   ],
   "source": [
    "alpha =0.007\n",
    "\n",
    "lasso = Lasso(alpha=alpha)\n",
    "        \n",
    "lasso.fit(X_train_lasso, Y_train) "
   ]
  },
  {
   "cell_type": "code",
   "execution_count": 61,
   "metadata": {},
   "outputs": [
    {
     "data": {
      "text/plain": [
       "array([  6800.17822663,   9218.76473905,  10577.75721083,  14038.15496804,\n",
       "       -15232.24653952,  -4921.91165465,  -2871.15322907,   1324.29045739,\n",
       "         3556.50536995,   5215.18291602])"
      ]
     },
     "execution_count": 61,
     "metadata": {},
     "output_type": "execute_result"
    }
   ],
   "source": [
    "(lasso.coef_)"
   ]
  },
  {
   "cell_type": "code",
   "execution_count": 62,
   "metadata": {},
   "outputs": [
    {
     "data": {
      "text/plain": [
       "[('avg_no_weekly_trans', 6800.178226626804),\n",
       " ('max_amount', 9218.764739051236),\n",
       " ('no_large_trans', 10577.75721082521),\n",
       " ('avg_trans_amount', 14038.154968035962),\n",
       " ('median_balance', -15232.246539520414),\n",
       " ('state_QLD', -4921.911654649526),\n",
       " ('state_VIC', -2871.153229074196),\n",
       " ('state_WA', 1324.2904573870014),\n",
       " ('state_n/a', 3556.505369950219),\n",
       " ('gender_M', 5215.182916016693)]"
      ]
     },
     "execution_count": 62,
     "metadata": {},
     "output_type": "execute_result"
    }
   ],
   "source": [
    "list(zip(X_train_lasso.columns,lasso.coef_))"
   ]
  },
  {
   "cell_type": "code",
   "execution_count": 63,
   "metadata": {},
   "outputs": [],
   "source": [
    "Y_train_lasso = Y_train.copy()"
   ]
  },
  {
   "cell_type": "code",
   "execution_count": 64,
   "metadata": {},
   "outputs": [
    {
     "name": "stdout",
     "output_type": "stream",
     "text": [
      "0.5729247999490976\n",
      "0.5729247999490976\n"
     ]
    }
   ],
   "source": [
    "model_lasso=lasso.fit(X_train_lasso, Y_train_lasso)\n",
    "\n",
    "# predict\n",
    "y_train_pred = lasso.predict(X_train_lasso)\n",
    "print(model_lasso.score(X_train_lasso, Y_train_lasso))\n",
    "print(r2_score(y_true=Y_train_lasso, y_pred=y_train_pred))"
   ]
  },
  {
   "cell_type": "code",
   "execution_count": 65,
   "metadata": {},
   "outputs": [],
   "source": [
    "X_test_lasso = X_test[col10]\n",
    "Y_test_lasso = Y_test.copy()"
   ]
  },
  {
   "cell_type": "code",
   "execution_count": 66,
   "metadata": {},
   "outputs": [
    {
     "name": "stdout",
     "output_type": "stream",
     "text": [
      "-0.7134715839590939\n",
      "-0.7134715839590939\n"
     ]
    }
   ],
   "source": [
    "y_test_pred = lasso.predict(X_test_lasso)\n",
    "print(model_lasso.score(X_test_lasso, Y_test_lasso))\n",
    "print(r2_score(y_true=Y_test_lasso, y_pred=y_test_pred))"
   ]
  },
  {
   "cell_type": "code",
   "execution_count": 67,
   "metadata": {},
   "outputs": [
    {
     "data": {
      "text/plain": [
       "1101518926.1041152"
      ]
     },
     "execution_count": 67,
     "metadata": {},
     "output_type": "execute_result"
    }
   ],
   "source": [
    "# Check the mean squared error\n",
    "\n",
    "mean_squared_error(Y_test_lasso, lasso.predict(X_test_lasso))"
   ]
  },
  {
   "cell_type": "code",
   "execution_count": 68,
   "metadata": {},
   "outputs": [
    {
     "data": {
      "image/png": "[encoded data removed]",
      "text/plain": [
       "<Figure size 432x288 with 1 Axes>"
      ]
     },
     "metadata": {
      "needs_background": "light"
     },
     "output_type": "display_data"
    }
   ],
   "source": [
    "# Plot important coefficients\n",
    "\n",
    "coefs = pd.Series(lasso.coef_, index = X_train_lasso.columns)\n",
    "\n",
    "imp_coefs = pd.concat([coefs.sort_values().head(10),\n",
    "                     coefs.sort_values().tail(10)])\n",
    "imp_coefs.plot(kind = \"bar\")\n",
    "plt.title(\"Coefficients in the Lasso Model\")\n",
    "\n",
    "plt.show()"
   ]
  },
  {
   "cell_type": "code",
   "execution_count": 69,
   "metadata": {},
   "outputs": [
    {
     "name": "stdout",
     "output_type": "stream",
     "text": [
      "   Coeff Values            Variables  Absolute Coefficent\n",
      "4 -15232.246540       median_balance         15232.246540\n",
      "3  14038.154968     avg_trans_amount         14038.154968\n",
      "2  10577.757211       no_large_trans         10577.757211\n",
      "1   9218.764739           max_amount          9218.764739\n",
      "0   6800.178227  avg_no_weekly_trans          6800.178227\n",
      "9   5215.182916             gender_M          5215.182916\n",
      "5  -4921.911655            state_QLD          4921.911655\n",
      "8   3556.505370            state_n/a          3556.505370\n",
      "6  -2871.153229            state_VIC          2871.153229\n",
      "7   1324.290457             state_WA          1324.290457\n"
     ]
    }
   ],
   "source": [
    "lasso_df = pd.DataFrame() \n",
    "lasso_df['Coeff Values'] = pd.Series(lasso.coef_) \n",
    "lasso_df['Variables'] = X_train_lasso.columns\n",
    "\n",
    "# Removing rows that have coeff = 0\n",
    "lasso_df = lasso_df.loc[lasso_df['Coeff Values']!=0]\n",
    "\n",
    "lasso_df['Absolute Coefficent'] =lasso_df['Coeff Values'].apply(lambda x:abs(x))\n",
    "lasso_df.sort_values(by=['Absolute Coefficent'],inplace=True,ascending=False)\n",
    "\n",
    "print(lasso_df.head(20))"
   ]
  },
  {
   "cell_type": "markdown",
   "metadata": {},
   "source": [
    "#### 4. Predict customers' annual salary\n",
    "Now that our column transformer is ready, we can build a pipeline using the column transformer and a machine learning model to predict customers' annual salary.\n",
    "\n",
    "Here, we will try two models:\n",
    "\n",
    "- Linear regression\n",
    "- Decision tree regressor"
   ]
  },
  {
   "cell_type": "markdown",
   "metadata": {},
   "source": [
    "# 4.2 Decision tree "
   ]
  },
  {
   "cell_type": "code",
   "execution_count": 72,
   "metadata": {},
   "outputs": [],
   "source": [
    "# Instantiate model and pipeline \n",
    "tree = DecisionTreeRegressor()\n"
   ]
  },
  {
   "cell_type": "code",
   "execution_count": 74,
   "metadata": {},
   "outputs": [],
   "source": [
    "# Fit pipeline and make predictions \n",
    "tree.fit(X_train, Y_train)\n",
    "tree_pred = tree.predict(X_test)"
   ]
  },
  {
   "cell_type": "code",
   "execution_count": 75,
   "metadata": {},
   "outputs": [
    {
     "name": "stdout",
     "output_type": "stream",
     "text": [
      "RMSE:  34072\n"
     ]
    }
   ],
   "source": [
    "# RMSE \n",
    "print(\"RMSE: \", round(np.sqrt(mean_squared_error(tree_pred, Y_test))))"
   ]
  },
  {
   "cell_type": "code",
   "execution_count": 76,
   "metadata": {},
   "outputs": [],
   "source": [
    "import statsmodels.api as sm"
   ]
  },
  {
   "cell_type": "code",
   "execution_count": 78,
   "metadata": {},
   "outputs": [],
   "source": [
    "# Add a constant to get an intercept\n",
    "X_train_sm = sm.add_constant(X_train)\n",
    "\n",
    "# Fit the resgression line using 'OLS'\n",
    "lr = sm.OLS(Y_train, X_train_sm).fit()"
   ]
  },
  {
   "cell_type": "code",
   "execution_count": 79,
   "metadata": {},
   "outputs": [
    {
     "data": {
      "text/plain": [
       "const                  61842.972608\n",
       "avg_no_weekly_trans     6787.656068\n",
       "max_amount              9268.139472\n",
       "no_large_trans         10619.316873\n",
       "avg_trans_amount       14000.688395\n",
       "median_balance        -15210.844286\n",
       "age                        0.056307\n",
       "state_NT                -200.236673\n",
       "state_QLD              -4970.198142\n",
       "state_VIC              -2941.541644\n",
       "state_WA                1277.210006\n",
       "state_n/a               3472.992819\n",
       "gender_M                5176.267895\n",
       "dtype: float64"
      ]
     },
     "execution_count": 79,
     "metadata": {},
     "output_type": "execute_result"
    }
   ],
   "source": [
    "# Print the parameters, i.e. the intercept and the slope of the regression line fitted\n",
    "lr.params"
   ]
  },
  {
   "cell_type": "code",
   "execution_count": 80,
   "metadata": {},
   "outputs": [
    {
     "name": "stdout",
     "output_type": "stream",
     "text": [
      "                            OLS Regression Results                            \n",
      "==============================================================================\n",
      "Dep. Variable:          annual_salary   R-squared:                       0.573\n",
      "Model:                            OLS   Adj. R-squared:                  0.483\n",
      "Method:                 Least Squares   F-statistic:                     6.374\n",
      "Date:                Thu, 12 Aug 2021   Prob (F-statistic):           5.31e-07\n",
      "Time:                        13:49:18   Log-Likelihood:                -786.74\n",
      "No. Observations:                  70   AIC:                             1599.\n",
      "Df Residuals:                      57   BIC:                             1629.\n",
      "Df Model:                          12                                         \n",
      "Covariance Type:            nonrobust                                         \n",
      "=======================================================================================\n",
      "                          coef    std err          t      P>|t|      [0.025      0.975]\n",
      "---------------------------------------------------------------------------------------\n",
      "const                6.184e+04   3058.961     20.217      0.000    5.57e+04     6.8e+04\n",
      "avg_no_weekly_trans  6787.6561   3651.583      1.859      0.068    -524.513    1.41e+04\n",
      "max_amount           9268.1395   2694.133      3.440      0.001    3873.230    1.47e+04\n",
      "no_large_trans       1.062e+04   2887.988      3.677      0.001    4836.221    1.64e+04\n",
      "avg_trans_amount       1.4e+04   3595.064      3.894      0.000    6801.696    2.12e+04\n",
      "median_balance      -1.521e+04   9238.362     -1.646      0.105   -3.37e+04    3288.657\n",
      "age                     0.0563   2967.294    1.9e-05      1.000   -5941.847    5941.960\n",
      "state_NT             -200.2367   2289.173     -0.087      0.931   -4784.227    4383.754\n",
      "state_QLD           -4970.1981   3610.312     -1.377      0.174   -1.22e+04    2259.328\n",
      "state_VIC           -2941.5416   3353.138     -0.877      0.384   -9656.084    3773.001\n",
      "state_WA             1277.2100   2785.615      0.459      0.648   -4300.888    6855.308\n",
      "state_n/a            3472.9928   3656.003      0.950      0.346   -3848.026    1.08e+04\n",
      "gender_M             5176.2679   2680.185      1.931      0.058    -190.710    1.05e+04\n",
      "==============================================================================\n",
      "Omnibus:                        0.255   Durbin-Watson:                   2.211\n",
      "Prob(Omnibus):                  0.880   Jarque-Bera (JB):                0.060\n",
      "Skew:                          -0.070   Prob(JB):                        0.970\n",
      "Kurtosis:                       3.034   Cond. No.                         6.46\n",
      "==============================================================================\n",
      "\n",
      "Notes:\n",
      "[1] Standard Errors assume that the covariance matrix of the errors is correctly specified.\n"
     ]
    }
   ],
   "source": [
    "# Performing a summary operation lists out all the different parameters of the regression line fitted\n",
    "print(lr.summary())"
   ]
  },
  {
   "cell_type": "code",
   "execution_count": 81,
   "metadata": {},
   "outputs": [
    {
     "data": {
      "text/html": [
       "<table class=\"simpletable\">\n",
       "<caption>OLS Regression Results</caption>\n",
       "<tr>\n",
       "  <th>Dep. Variable:</th>      <td>annual_salary</td>  <th>  R-squared:         </th> <td>   0.573</td>\n",
       "</tr>\n",
       "<tr>\n",
       "  <th>Model:</th>                   <td>OLS</td>       <th>  Adj. R-squared:    </th> <td>   0.483</td>\n",
       "</tr>\n",
       "<tr>\n",
       "  <th>Method:</th>             <td>Least Squares</td>  <th>  F-statistic:       </th> <td>   6.374</td>\n",
       "</tr>\n",
       "<tr>\n",
       "  <th>Date:</th>             <td>Thu, 12 Aug 2021</td> <th>  Prob (F-statistic):</th> <td>5.31e-07</td>\n",
       "</tr>\n",
       "<tr>\n",
       "  <th>Time:</th>                 <td>13:49:56</td>     <th>  Log-Likelihood:    </th> <td> -786.74</td>\n",
       "</tr>\n",
       "<tr>\n",
       "  <th>No. Observations:</th>      <td>    70</td>      <th>  AIC:               </th> <td>   1599.</td>\n",
       "</tr>\n",
       "<tr>\n",
       "  <th>Df Residuals:</th>          <td>    57</td>      <th>  BIC:               </th> <td>   1629.</td>\n",
       "</tr>\n",
       "<tr>\n",
       "  <th>Df Model:</th>              <td>    12</td>      <th>                     </th>     <td> </td>   \n",
       "</tr>\n",
       "<tr>\n",
       "  <th>Covariance Type:</th>      <td>nonrobust</td>    <th>                     </th>     <td> </td>   \n",
       "</tr>\n",
       "</table>\n",
       "<table class=\"simpletable\">\n",
       "<tr>\n",
       "           <td></td>              <th>coef</th>     <th>std err</th>      <th>t</th>      <th>P>|t|</th>  <th>[0.025</th>    <th>0.975]</th>  \n",
       "</tr>\n",
       "<tr>\n",
       "  <th>const</th>               <td> 6.184e+04</td> <td> 3058.961</td> <td>   20.217</td> <td> 0.000</td> <td> 5.57e+04</td> <td>  6.8e+04</td>\n",
       "</tr>\n",
       "<tr>\n",
       "  <th>avg_no_weekly_trans</th> <td> 6787.6561</td> <td> 3651.583</td> <td>    1.859</td> <td> 0.068</td> <td> -524.513</td> <td> 1.41e+04</td>\n",
       "</tr>\n",
       "<tr>\n",
       "  <th>max_amount</th>          <td> 9268.1395</td> <td> 2694.133</td> <td>    3.440</td> <td> 0.001</td> <td> 3873.230</td> <td> 1.47e+04</td>\n",
       "</tr>\n",
       "<tr>\n",
       "  <th>no_large_trans</th>      <td> 1.062e+04</td> <td> 2887.988</td> <td>    3.677</td> <td> 0.001</td> <td> 4836.221</td> <td> 1.64e+04</td>\n",
       "</tr>\n",
       "<tr>\n",
       "  <th>avg_trans_amount</th>    <td>   1.4e+04</td> <td> 3595.064</td> <td>    3.894</td> <td> 0.000</td> <td> 6801.696</td> <td> 2.12e+04</td>\n",
       "</tr>\n",
       "<tr>\n",
       "  <th>median_balance</th>      <td>-1.521e+04</td> <td> 9238.362</td> <td>   -1.646</td> <td> 0.105</td> <td>-3.37e+04</td> <td> 3288.657</td>\n",
       "</tr>\n",
       "<tr>\n",
       "  <th>age</th>                 <td>    0.0563</td> <td> 2967.294</td> <td>  1.9e-05</td> <td> 1.000</td> <td>-5941.847</td> <td> 5941.960</td>\n",
       "</tr>\n",
       "<tr>\n",
       "  <th>state_NT</th>            <td> -200.2367</td> <td> 2289.173</td> <td>   -0.087</td> <td> 0.931</td> <td>-4784.227</td> <td> 4383.754</td>\n",
       "</tr>\n",
       "<tr>\n",
       "  <th>state_QLD</th>           <td>-4970.1981</td> <td> 3610.312</td> <td>   -1.377</td> <td> 0.174</td> <td>-1.22e+04</td> <td> 2259.328</td>\n",
       "</tr>\n",
       "<tr>\n",
       "  <th>state_VIC</th>           <td>-2941.5416</td> <td> 3353.138</td> <td>   -0.877</td> <td> 0.384</td> <td>-9656.084</td> <td> 3773.001</td>\n",
       "</tr>\n",
       "<tr>\n",
       "  <th>state_WA</th>            <td> 1277.2100</td> <td> 2785.615</td> <td>    0.459</td> <td> 0.648</td> <td>-4300.888</td> <td> 6855.308</td>\n",
       "</tr>\n",
       "<tr>\n",
       "  <th>state_n/a</th>           <td> 3472.9928</td> <td> 3656.003</td> <td>    0.950</td> <td> 0.346</td> <td>-3848.026</td> <td> 1.08e+04</td>\n",
       "</tr>\n",
       "<tr>\n",
       "  <th>gender_M</th>            <td> 5176.2679</td> <td> 2680.185</td> <td>    1.931</td> <td> 0.058</td> <td> -190.710</td> <td> 1.05e+04</td>\n",
       "</tr>\n",
       "</table>\n",
       "<table class=\"simpletable\">\n",
       "<tr>\n",
       "  <th>Omnibus:</th>       <td> 0.255</td> <th>  Durbin-Watson:     </th> <td>   2.211</td>\n",
       "</tr>\n",
       "<tr>\n",
       "  <th>Prob(Omnibus):</th> <td> 0.880</td> <th>  Jarque-Bera (JB):  </th> <td>   0.060</td>\n",
       "</tr>\n",
       "<tr>\n",
       "  <th>Skew:</th>          <td>-0.070</td> <th>  Prob(JB):          </th> <td>   0.970</td>\n",
       "</tr>\n",
       "<tr>\n",
       "  <th>Kurtosis:</th>      <td> 3.034</td> <th>  Cond. No.          </th> <td>    6.46</td>\n",
       "</tr>\n",
       "</table><br/><br/>Notes:<br/>[1] Standard Errors assume that the covariance matrix of the errors is correctly specified."
      ],
      "text/plain": [
       "<class 'statsmodels.iolib.summary.Summary'>\n",
       "\"\"\"\n",
       "                            OLS Regression Results                            \n",
       "==============================================================================\n",
       "Dep. Variable:          annual_salary   R-squared:                       0.573\n",
       "Model:                            OLS   Adj. R-squared:                  0.483\n",
       "Method:                 Least Squares   F-statistic:                     6.374\n",
       "Date:                Thu, 12 Aug 2021   Prob (F-statistic):           5.31e-07\n",
       "Time:                        13:49:56   Log-Likelihood:                -786.74\n",
       "No. Observations:                  70   AIC:                             1599.\n",
       "Df Residuals:                      57   BIC:                             1629.\n",
       "Df Model:                          12                                         \n",
       "Covariance Type:            nonrobust                                         \n",
       "=======================================================================================\n",
       "                          coef    std err          t      P>|t|      [0.025      0.975]\n",
       "---------------------------------------------------------------------------------------\n",
       "const                6.184e+04   3058.961     20.217      0.000    5.57e+04     6.8e+04\n",
       "avg_no_weekly_trans  6787.6561   3651.583      1.859      0.068    -524.513    1.41e+04\n",
       "max_amount           9268.1395   2694.133      3.440      0.001    3873.230    1.47e+04\n",
       "no_large_trans       1.062e+04   2887.988      3.677      0.001    4836.221    1.64e+04\n",
       "avg_trans_amount       1.4e+04   3595.064      3.894      0.000    6801.696    2.12e+04\n",
       "median_balance      -1.521e+04   9238.362     -1.646      0.105   -3.37e+04    3288.657\n",
       "age                     0.0563   2967.294    1.9e-05      1.000   -5941.847    5941.960\n",
       "state_NT             -200.2367   2289.173     -0.087      0.931   -4784.227    4383.754\n",
       "state_QLD           -4970.1981   3610.312     -1.377      0.174   -1.22e+04    2259.328\n",
       "state_VIC           -2941.5416   3353.138     -0.877      0.384   -9656.084    3773.001\n",
       "state_WA             1277.2100   2785.615      0.459      0.648   -4300.888    6855.308\n",
       "state_n/a            3472.9928   3656.003      0.950      0.346   -3848.026    1.08e+04\n",
       "gender_M             5176.2679   2680.185      1.931      0.058    -190.710    1.05e+04\n",
       "==============================================================================\n",
       "Omnibus:                        0.255   Durbin-Watson:                   2.211\n",
       "Prob(Omnibus):                  0.880   Jarque-Bera (JB):                0.060\n",
       "Skew:                          -0.070   Prob(JB):                        0.970\n",
       "Kurtosis:                       3.034   Cond. No.                         6.46\n",
       "==============================================================================\n",
       "\n",
       "Notes:\n",
       "[1] Standard Errors assume that the covariance matrix of the errors is correctly specified.\n",
       "\"\"\""
      ]
     },
     "execution_count": 81,
     "metadata": {},
     "output_type": "execute_result"
    }
   ],
   "source": [
    "import statsmodels.api  as sm\n",
    "#Train the model \n",
    "X_train_sm=sm.add_constant(X_train)\n",
    "X_train_sm.head()\n",
    "#Fitting the model \n",
    "lr=sm.OLS(Y_train,X_train_sm)\n",
    "lr_model=lr.fit()\n",
    "#TO get the constant value for the predictor var TV \n",
    "lr_model.params\n",
    "lr_model.summary()\n"
   ]
  },
  {
   "cell_type": "code",
   "execution_count": 87,
   "metadata": {},
   "outputs": [
    {
     "data": {
      "text/plain": [
       "32     58849.810703\n",
       "6      94147.904779\n",
       "3      70525.932344\n",
       "12     47004.838764\n",
       "51     66218.016532\n",
       "          ...      \n",
       "79     49738.812317\n",
       "87     37104.909745\n",
       "67     47004.524602\n",
       "24     57278.674967\n",
       "8     100291.799134\n",
       "Length: 70, dtype: float64"
      ]
     },
     "execution_count": 87,
     "metadata": {},
     "output_type": "execute_result"
    }
   ],
   "source": [
    "y_train_pred = lr_model.predict(X_train_sm)\n",
    "y_train_pred"
   ]
  },
  {
   "cell_type": "markdown",
   "metadata": {},
   "source": [
    "5. Conclusion\n",
    "\n",
    "The RMSE for both models are over $20,000 and although decision tree performed better than linear regression by having a smaller RMSE, both models still appear to be highly inaccurate. Therefore, it is risky to use them to predict customers' income bracket. More data is required to develop a more reliable model.\n",
    "\n",
    " I doubt the result will be materially different as we only have a very limited amount of data (100 salaries) available."
   ]
  },
  {
   "cell_type": "code",
   "execution_count": null,
   "metadata": {},
   "outputs": [],
   "source": []
  }
 ],
 "metadata": {
  "kernelspec": {
   "display_name": "Python 3",
   "language": "python",
   "name": "python3"
  },
  "language_info": {
   "codemirror_mode": {
    "name": "ipython",
    "version": 3
   },
   "file_extension": ".py",
   "mimetype": "text/x-python",
   "name": "python",
   "nbconvert_exporter": "python",
   "pygments_lexer": "ipython3",
   "version": "3.8.5"
  }
 },
 "nbformat": 4,
 "nbformat_minor": 4
}
